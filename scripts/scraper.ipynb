{
 "cells": [
  {
   "cell_type": "code",
   "execution_count": 1,
   "metadata": {},
   "outputs": [
    {
     "name": "stderr",
     "output_type": "stream",
     "text": [
      "[WDM] - Downloading: 100%|██████████| 6.78M/6.78M [00:00<00:00, 13.2MB/s]\n"
     ]
    }
   ],
   "source": [
    "from selenium import webdriver\n",
    "from selenium.webdriver.chrome.service import Service\n",
    "from webdriver_manager.chrome import ChromeDriverManager\n",
    "from platform import python_version\n",
    "#from selenium.webdriver.support.wait import WebDriverWait\n",
    "\n",
    "driver = webdriver.Chrome(service=Service(ChromeDriverManager().install()))"
   ]
  },
  {
   "attachments": {},
   "cell_type": "markdown",
   "metadata": {},
   "source": [
    "# Scraping links to tenders"
   ]
  },
  {
   "cell_type": "code",
   "execution_count": 7,
   "metadata": {},
   "outputs": [],
   "source": [
    "# Getting search results\n",
    "\n",
    "## navigating to the page search form\n",
    "driver.get('https://ted.europa.eu/TED/search/search.do')\n",
    "\n",
    "## geting to search results: all dates + cpv selected  codes\n",
    "search_scope = driver.find_element(\"xpath\", '//*[@id=\"searchScope3\"]').click()\n",
    "expert_search = driver.find_element(\"xpath\", '//*[@id=\"switchToExpert\"]').click()\n",
    "search_box = driver.find_element(\"xpath\", '//*[@id=\"expertSearchCriteria.query\"]').send_keys(\"PD=[20000101 <> 20221231] AND PC=[48000000 or 72000000]\")\n",
    "\n",
    "## search click\n",
    "search_button = driver.find_element(\"xpath\", '//*[@id=\"scope-fs\"]/button')\n",
    "driver.execute_script(\"arguments[0].click();\", search_button)\n"
   ]
  },
  {
   "cell_type": "code",
   "execution_count": 3,
   "metadata": {},
   "outputs": [
    {
     "name": "stdout",
     "output_type": "stream",
     "text": [
      "389714\n"
     ]
    }
   ],
   "source": [
    "#getting the number of results to know how many pages to scrape\n",
    "import math\n",
    "\n",
    "results = driver.find_element('xpath','//div[@class = \"pagebanner\"]').text\n",
    "#trim 18 spaces from the left and 7 spaces from the right of no_results\n",
    "results = results[18:]\n",
    "results = results[:-8]\n",
    "#replace , in no. of results with nothing\n",
    "results = int(results.replace(',',''))\n",
    "print(results)"
   ]
  },
  {
   "cell_type": "code",
   "execution_count": 4,
   "metadata": {},
   "outputs": [
    {
     "name": "stdout",
     "output_type": "stream",
     "text": [
      "Now at page:  100\n",
      "Now at page:  200\n",
      "Now at page:  300\n",
      "Now at page:  400\n",
      "Now at page:  500\n",
      "Now at page:  600\n",
      "Now at page:  700\n",
      "Now at page:  800\n",
      "Now at page:  900\n",
      "Now at page:  1000\n",
      "Now at page:  1100\n",
      "Now at page:  1200\n",
      "Now at page:  1300\n",
      "Now at page:  1400\n",
      "Now at page:  1500\n",
      "Now at page:  1600\n",
      "Now at page:  1700\n",
      "Now at page:  1800\n",
      "Now at page:  1900\n",
      "Now at page:  2000\n",
      "Now at page:  2100\n",
      "Now at page:  2200\n",
      "Now at page:  2300\n",
      "Now at page:  2400\n",
      "Now at page:  2500\n",
      "Now at page:  2600\n",
      "Now at page:  2700\n",
      "Now at page:  2800\n",
      "Now at page:  2900\n",
      "Now at page:  3000\n",
      "Now at page:  3100\n",
      "Now at page:  3200\n",
      "Now at page:  3300\n",
      "Now at page:  3400\n",
      "Now at page:  3500\n",
      "Now at page:  3600\n",
      "Now at page:  3700\n",
      "Now at page:  3800\n",
      "Now at page:  3900\n",
      "Now at page:  4000\n",
      "Now at page:  4100\n",
      "Error: not 25 elements on page:  4135\n"
     ]
    },
    {
     "ename": "NoSuchElementException",
     "evalue": "Message: no such element: Unable to locate element: {\"method\":\"xpath\",\"selector\":\"//div[@title=\"Next\"]/a\"}\n  (Session info: chrome=110.0.5481.178)\nStacktrace:\nBacktrace:\n\t(No symbol) [0x010837D3]\n\t(No symbol) [0x01018B81]\n\t(No symbol) [0x00F1B36D]\n\t(No symbol) [0x00F4D382]\n\t(No symbol) [0x00F4D4BB]\n\t(No symbol) [0x00F83302]\n\t(No symbol) [0x00F6B464]\n\t(No symbol) [0x00F81215]\n\t(No symbol) [0x00F6B216]\n\t(No symbol) [0x00F40D97]\n\t(No symbol) [0x00F4253D]\n\tGetHandleVerifier [0x012FABF2+2510930]\n\tGetHandleVerifier [0x01328EC1+2700065]\n\tGetHandleVerifier [0x0132C86C+2714828]\n\tGetHandleVerifier [0x01133480+645344]\n\t(No symbol) [0x01020FD2]\n\t(No symbol) [0x01026C68]\n\t(No symbol) [0x01026D4B]\n\t(No symbol) [0x01030D6B]\n\tBaseThreadInitThunk [0x766F7D69+25]\n\tRtlInitializeExceptionChain [0x77BEBB9B+107]\n\tRtlClearBits [0x77BEBB1F+191]\n",
     "output_type": "error",
     "traceback": [
      "\u001b[1;31m---------------------------------------------------------------------------\u001b[0m",
      "\u001b[1;31mNoSuchElementException\u001b[0m                    Traceback (most recent call last)",
      "Cell \u001b[1;32mIn[4], line 36\u001b[0m\n\u001b[0;32m     33\u001b[0m time\u001b[39m.\u001b[39msleep(random\u001b[39m.\u001b[39muniform(\u001b[39m1\u001b[39m,\u001b[39m2\u001b[39m))\n\u001b[0;32m     35\u001b[0m \u001b[39m#next page\u001b[39;00m\n\u001b[1;32m---> 36\u001b[0m button \u001b[39m=\u001b[39m driver\u001b[39m.\u001b[39;49mfind_element(\u001b[39m'\u001b[39;49m\u001b[39mxpath\u001b[39;49m\u001b[39m'\u001b[39;49m,\u001b[39m'\u001b[39;49m\u001b[39m//div[@title=\u001b[39;49m\u001b[39m\"\u001b[39;49m\u001b[39mNext\u001b[39;49m\u001b[39m\"\u001b[39;49m\u001b[39m]/a\u001b[39;49m\u001b[39m'\u001b[39;49m)\n\u001b[0;32m     37\u001b[0m \u001b[39m#button.click() # breaks with ElementClickInterceptedException\u001b[39;00m\n\u001b[0;32m     38\u001b[0m driver\u001b[39m.\u001b[39mexecute_script(\u001b[39m\"\u001b[39m\u001b[39marguments[0].click();\u001b[39m\u001b[39m\"\u001b[39m, button) \u001b[39m#trying to solve ElementClickInterceptedException\u001b[39;00m\n",
      "File \u001b[1;32mc:\\Users\\bakic\\.virtualenvs\\saas-in-eu-NeA8_TIc\\lib\\site-packages\\selenium\\webdriver\\remote\\webdriver.py:830\u001b[0m, in \u001b[0;36mWebDriver.find_element\u001b[1;34m(self, by, value)\u001b[0m\n\u001b[0;32m    827\u001b[0m     by \u001b[39m=\u001b[39m By\u001b[39m.\u001b[39mCSS_SELECTOR\n\u001b[0;32m    828\u001b[0m     value \u001b[39m=\u001b[39m \u001b[39mf\u001b[39m\u001b[39m'\u001b[39m\u001b[39m[name=\u001b[39m\u001b[39m\"\u001b[39m\u001b[39m{\u001b[39;00mvalue\u001b[39m}\u001b[39;00m\u001b[39m\"\u001b[39m\u001b[39m]\u001b[39m\u001b[39m'\u001b[39m\n\u001b[1;32m--> 830\u001b[0m \u001b[39mreturn\u001b[39;00m \u001b[39mself\u001b[39;49m\u001b[39m.\u001b[39;49mexecute(Command\u001b[39m.\u001b[39;49mFIND_ELEMENT, {\u001b[39m\"\u001b[39;49m\u001b[39musing\u001b[39;49m\u001b[39m\"\u001b[39;49m: by, \u001b[39m\"\u001b[39;49m\u001b[39mvalue\u001b[39;49m\u001b[39m\"\u001b[39;49m: value})[\u001b[39m\"\u001b[39m\u001b[39mvalue\u001b[39m\u001b[39m\"\u001b[39m]\n",
      "File \u001b[1;32mc:\\Users\\bakic\\.virtualenvs\\saas-in-eu-NeA8_TIc\\lib\\site-packages\\selenium\\webdriver\\remote\\webdriver.py:440\u001b[0m, in \u001b[0;36mWebDriver.execute\u001b[1;34m(self, driver_command, params)\u001b[0m\n\u001b[0;32m    438\u001b[0m response \u001b[39m=\u001b[39m \u001b[39mself\u001b[39m\u001b[39m.\u001b[39mcommand_executor\u001b[39m.\u001b[39mexecute(driver_command, params)\n\u001b[0;32m    439\u001b[0m \u001b[39mif\u001b[39;00m response:\n\u001b[1;32m--> 440\u001b[0m     \u001b[39mself\u001b[39;49m\u001b[39m.\u001b[39;49merror_handler\u001b[39m.\u001b[39;49mcheck_response(response)\n\u001b[0;32m    441\u001b[0m     response[\u001b[39m\"\u001b[39m\u001b[39mvalue\u001b[39m\u001b[39m\"\u001b[39m] \u001b[39m=\u001b[39m \u001b[39mself\u001b[39m\u001b[39m.\u001b[39m_unwrap_value(response\u001b[39m.\u001b[39mget(\u001b[39m\"\u001b[39m\u001b[39mvalue\u001b[39m\u001b[39m\"\u001b[39m, \u001b[39mNone\u001b[39;00m))\n\u001b[0;32m    442\u001b[0m     \u001b[39mreturn\u001b[39;00m response\n",
      "File \u001b[1;32mc:\\Users\\bakic\\.virtualenvs\\saas-in-eu-NeA8_TIc\\lib\\site-packages\\selenium\\webdriver\\remote\\errorhandler.py:245\u001b[0m, in \u001b[0;36mErrorHandler.check_response\u001b[1;34m(self, response)\u001b[0m\n\u001b[0;32m    243\u001b[0m         alert_text \u001b[39m=\u001b[39m value[\u001b[39m\"\u001b[39m\u001b[39malert\u001b[39m\u001b[39m\"\u001b[39m]\u001b[39m.\u001b[39mget(\u001b[39m\"\u001b[39m\u001b[39mtext\u001b[39m\u001b[39m\"\u001b[39m)\n\u001b[0;32m    244\u001b[0m     \u001b[39mraise\u001b[39;00m exception_class(message, screen, stacktrace, alert_text)  \u001b[39m# type: ignore[call-arg]  # mypy is not smart enough here\u001b[39;00m\n\u001b[1;32m--> 245\u001b[0m \u001b[39mraise\u001b[39;00m exception_class(message, screen, stacktrace)\n",
      "\u001b[1;31mNoSuchElementException\u001b[0m: Message: no such element: Unable to locate element: {\"method\":\"xpath\",\"selector\":\"//div[@title=\"Next\"]/a\"}\n  (Session info: chrome=110.0.5481.178)\nStacktrace:\nBacktrace:\n\t(No symbol) [0x010837D3]\n\t(No symbol) [0x01018B81]\n\t(No symbol) [0x00F1B36D]\n\t(No symbol) [0x00F4D382]\n\t(No symbol) [0x00F4D4BB]\n\t(No symbol) [0x00F83302]\n\t(No symbol) [0x00F6B464]\n\t(No symbol) [0x00F81215]\n\t(No symbol) [0x00F6B216]\n\t(No symbol) [0x00F40D97]\n\t(No symbol) [0x00F4253D]\n\tGetHandleVerifier [0x012FABF2+2510930]\n\tGetHandleVerifier [0x01328EC1+2700065]\n\tGetHandleVerifier [0x0132C86C+2714828]\n\tGetHandleVerifier [0x01133480+645344]\n\t(No symbol) [0x01020FD2]\n\t(No symbol) [0x01026C68]\n\t(No symbol) [0x01026D4B]\n\t(No symbol) [0x01030D6B]\n\tBaseThreadInitThunk [0x766F7D69+25]\n\tRtlInitializeExceptionChain [0x77BEBB9B+107]\n\tRtlClearBits [0x77BEBB1F+191]\n"
     ]
    }
   ],
   "source": [
    "# Scraping tender links\n",
    "import time\n",
    "import random\n",
    "\n",
    "\n",
    "for page in range(1, math.ceil(results/25)+1):\n",
    "    # print page number for every 100 pages\n",
    "    if page % 100 == 0:\n",
    "        print(\"Now at page: \", page)\n",
    "\n",
    "    # get links\n",
    "    elements = driver.find_elements('xpath', '//a[@title=\"View this notice\"]')\n",
    "\n",
    "    # if there are not 25 elements on page, add page to error_page list\n",
    "    if len(elements) != 25:\n",
    "        print(\"Error: not 25 elements on page: \", page)\n",
    "        with open('../data/error_page.txt', 'a') as f:\n",
    "            f.write(str(page) + '\\n')\n",
    "              \n",
    "    #write links to file\n",
    "    for link in elements:\n",
    "        with open('../data/links.txt', 'a') as f:\n",
    "            f.write(link.get_attribute('href') + '\\n')\n",
    "        \n",
    "    # write last page to file\n",
    "    with open('../data/last_page.txt', 'w') as f:\n",
    "        f.write(str(page))\n",
    "    \n",
    "    # sleep\n",
    "    time.sleep(random.uniform(1,2))\n",
    "\n",
    "    #next page\n",
    "    button = driver.find_element('xpath','//div[@title=\"Next\"]/a')\n",
    "    driver.execute_script(\"arguments[0].click();\", button) #to solve ElementClickInterceptedException\n",
    "\n",
    "driver.quit()\n"
   ]
  },
  {
   "cell_type": "code",
   "execution_count": null,
   "metadata": {},
   "outputs": [],
   "source": [
    "# first scraping session stopped at page 4135, so I am re-starting from there\n",
    "driver.get(\"https://ted.europa.eu/TED/search/searchResult.do?page=4135\")"
   ]
  },
  {
   "cell_type": "code",
   "execution_count": 12,
   "metadata": {},
   "outputs": [
    {
     "name": "stdout",
     "output_type": "stream",
     "text": [
      "Now at page:  4200\n",
      "Now at page:  4300\n",
      "Now at page:  4400\n",
      "Now at page:  4500\n",
      "Now at page:  4600\n",
      "Now at page:  4700\n",
      "Now at page:  4800\n",
      "Now at page:  4900\n",
      "Now at page:  5000\n",
      "Now at page:  5100\n",
      "Now at page:  5200\n",
      "Now at page:  5300\n",
      "Now at page:  5400\n",
      "Now at page:  5500\n",
      "Now at page:  5600\n",
      "Now at page:  5700\n",
      "Now at page:  5800\n",
      "Now at page:  5900\n",
      "Now at page:  6000\n",
      "Now at page:  6100\n",
      "Now at page:  6200\n",
      "Now at page:  6300\n",
      "Now at page:  6400\n",
      "Now at page:  6500\n",
      "Now at page:  6600\n",
      "Now at page:  6700\n",
      "Now at page:  6800\n",
      "Now at page:  6900\n",
      "Now at page:  7000\n",
      "Now at page:  7100\n",
      "Now at page:  7200\n",
      "Now at page:  7300\n",
      "Now at page:  7400\n",
      "Now at page:  7500\n",
      "Now at page:  7600\n",
      "Now at page:  7700\n",
      "Now at page:  7800\n",
      "Now at page:  7900\n",
      "Now at page:  8000\n",
      "Now at page:  8100\n",
      "Now at page:  8200\n",
      "Now at page:  8300\n",
      "Now at page:  8400\n",
      "Now at page:  8500\n",
      "Now at page:  8600\n",
      "Now at page:  8700\n",
      "Now at page:  8800\n",
      "Now at page:  8900\n",
      "Now at page:  9000\n",
      "Now at page:  9100\n",
      "Now at page:  9200\n",
      "Now at page:  9300\n",
      "Now at page:  9400\n",
      "Now at page:  9500\n",
      "Now at page:  9600\n",
      "Now at page:  9700\n",
      "Now at page:  9800\n",
      "Now at page:  9900\n",
      "Now at page:  10000\n",
      "Now at page:  10100\n",
      "Now at page:  10200\n",
      "Now at page:  10300\n",
      "Now at page:  10400\n",
      "Now at page:  10500\n",
      "Now at page:  10600\n",
      "Now at page:  10700\n",
      "Now at page:  10800\n",
      "Now at page:  10900\n",
      "Now at page:  11000\n",
      "Now at page:  11100\n",
      "Now at page:  11200\n",
      "Now at page:  11300\n",
      "Now at page:  11400\n",
      "Now at page:  11500\n",
      "Now at page:  11600\n",
      "Now at page:  11700\n",
      "Now at page:  11800\n",
      "Now at page:  11900\n",
      "Now at page:  12000\n",
      "Now at page:  12100\n",
      "Now at page:  12200\n",
      "Now at page:  12300\n",
      "Now at page:  12400\n",
      "Now at page:  12500\n",
      "Now at page:  12600\n",
      "Now at page:  12700\n",
      "Now at page:  12800\n",
      "Now at page:  12900\n",
      "Now at page:  13000\n",
      "Now at page:  13100\n",
      "Now at page:  13200\n",
      "Now at page:  13300\n",
      "Now at page:  13400\n",
      "Now at page:  13500\n",
      "Now at page:  13600\n",
      "Now at page:  13700\n",
      "Now at page:  13800\n",
      "Now at page:  13900\n",
      "Now at page:  14000\n",
      "Now at page:  14100\n",
      "Now at page:  14200\n",
      "Now at page:  14300\n",
      "Now at page:  14400\n",
      "Now at page:  14500\n",
      "Now at page:  14600\n",
      "Now at page:  14700\n",
      "Now at page:  14800\n",
      "Now at page:  14900\n",
      "Now at page:  15000\n",
      "Now at page:  15100\n",
      "Now at page:  15200\n",
      "Now at page:  15300\n",
      "Now at page:  15400\n",
      "Now at page:  15500\n",
      "Error: not 25 elements on page:  15589\n"
     ]
    },
    {
     "ename": "NoSuchElementException",
     "evalue": "Message: no such element: Unable to locate element: {\"method\":\"xpath\",\"selector\":\"//div[@title=\"Next\"]/a\"}\n  (Session info: chrome=110.0.5481.178)\nStacktrace:\nBacktrace:\n\t(No symbol) [0x010837D3]\n\t(No symbol) [0x01018B81]\n\t(No symbol) [0x00F1B36D]\n\t(No symbol) [0x00F4D382]\n\t(No symbol) [0x00F4D4BB]\n\t(No symbol) [0x00F83302]\n\t(No symbol) [0x00F6B464]\n\t(No symbol) [0x00F81215]\n\t(No symbol) [0x00F6B216]\n\t(No symbol) [0x00F40D97]\n\t(No symbol) [0x00F4253D]\n\tGetHandleVerifier [0x012FABF2+2510930]\n\tGetHandleVerifier [0x01328EC1+2700065]\n\tGetHandleVerifier [0x0132C86C+2714828]\n\tGetHandleVerifier [0x01133480+645344]\n\t(No symbol) [0x01020FD2]\n\t(No symbol) [0x01026C68]\n\t(No symbol) [0x01026D4B]\n\t(No symbol) [0x01030D6B]\n\tBaseThreadInitThunk [0x766F7D69+25]\n\tRtlInitializeExceptionChain [0x77BEBB9B+107]\n\tRtlClearBits [0x77BEBB1F+191]\n",
     "output_type": "error",
     "traceback": [
      "\u001b[1;31m---------------------------------------------------------------------------\u001b[0m",
      "\u001b[1;31mNoSuchElementException\u001b[0m                    Traceback (most recent call last)",
      "Cell \u001b[1;32mIn[12], line 31\u001b[0m\n\u001b[0;32m     28\u001b[0m time\u001b[39m.\u001b[39msleep(random\u001b[39m.\u001b[39muniform(\u001b[39m1\u001b[39m,\u001b[39m2\u001b[39m))\n\u001b[0;32m     30\u001b[0m \u001b[39m#next page\u001b[39;00m\n\u001b[1;32m---> 31\u001b[0m button \u001b[39m=\u001b[39m driver\u001b[39m.\u001b[39;49mfind_element(\u001b[39m'\u001b[39;49m\u001b[39mxpath\u001b[39;49m\u001b[39m'\u001b[39;49m,\u001b[39m'\u001b[39;49m\u001b[39m//div[@title=\u001b[39;49m\u001b[39m\"\u001b[39;49m\u001b[39mNext\u001b[39;49m\u001b[39m\"\u001b[39;49m\u001b[39m]/a\u001b[39;49m\u001b[39m'\u001b[39;49m)\n\u001b[0;32m     32\u001b[0m \u001b[39m#button.click() # breaks with ElementClickInterceptedException\u001b[39;00m\n\u001b[0;32m     33\u001b[0m driver\u001b[39m.\u001b[39mexecute_script(\u001b[39m\"\u001b[39m\u001b[39marguments[0].click();\u001b[39m\u001b[39m\"\u001b[39m, button) \u001b[39m#trying to solve ElementClickInterceptedException\u001b[39;00m\n",
      "File \u001b[1;32mc:\\Users\\bakic\\.virtualenvs\\saas-in-eu-NeA8_TIc\\lib\\site-packages\\selenium\\webdriver\\remote\\webdriver.py:830\u001b[0m, in \u001b[0;36mWebDriver.find_element\u001b[1;34m(self, by, value)\u001b[0m\n\u001b[0;32m    827\u001b[0m     by \u001b[39m=\u001b[39m By\u001b[39m.\u001b[39mCSS_SELECTOR\n\u001b[0;32m    828\u001b[0m     value \u001b[39m=\u001b[39m \u001b[39mf\u001b[39m\u001b[39m'\u001b[39m\u001b[39m[name=\u001b[39m\u001b[39m\"\u001b[39m\u001b[39m{\u001b[39;00mvalue\u001b[39m}\u001b[39;00m\u001b[39m\"\u001b[39m\u001b[39m]\u001b[39m\u001b[39m'\u001b[39m\n\u001b[1;32m--> 830\u001b[0m \u001b[39mreturn\u001b[39;00m \u001b[39mself\u001b[39;49m\u001b[39m.\u001b[39;49mexecute(Command\u001b[39m.\u001b[39;49mFIND_ELEMENT, {\u001b[39m\"\u001b[39;49m\u001b[39musing\u001b[39;49m\u001b[39m\"\u001b[39;49m: by, \u001b[39m\"\u001b[39;49m\u001b[39mvalue\u001b[39;49m\u001b[39m\"\u001b[39;49m: value})[\u001b[39m\"\u001b[39m\u001b[39mvalue\u001b[39m\u001b[39m\"\u001b[39m]\n",
      "File \u001b[1;32mc:\\Users\\bakic\\.virtualenvs\\saas-in-eu-NeA8_TIc\\lib\\site-packages\\selenium\\webdriver\\remote\\webdriver.py:440\u001b[0m, in \u001b[0;36mWebDriver.execute\u001b[1;34m(self, driver_command, params)\u001b[0m\n\u001b[0;32m    438\u001b[0m response \u001b[39m=\u001b[39m \u001b[39mself\u001b[39m\u001b[39m.\u001b[39mcommand_executor\u001b[39m.\u001b[39mexecute(driver_command, params)\n\u001b[0;32m    439\u001b[0m \u001b[39mif\u001b[39;00m response:\n\u001b[1;32m--> 440\u001b[0m     \u001b[39mself\u001b[39;49m\u001b[39m.\u001b[39;49merror_handler\u001b[39m.\u001b[39;49mcheck_response(response)\n\u001b[0;32m    441\u001b[0m     response[\u001b[39m\"\u001b[39m\u001b[39mvalue\u001b[39m\u001b[39m\"\u001b[39m] \u001b[39m=\u001b[39m \u001b[39mself\u001b[39m\u001b[39m.\u001b[39m_unwrap_value(response\u001b[39m.\u001b[39mget(\u001b[39m\"\u001b[39m\u001b[39mvalue\u001b[39m\u001b[39m\"\u001b[39m, \u001b[39mNone\u001b[39;00m))\n\u001b[0;32m    442\u001b[0m     \u001b[39mreturn\u001b[39;00m response\n",
      "File \u001b[1;32mc:\\Users\\bakic\\.virtualenvs\\saas-in-eu-NeA8_TIc\\lib\\site-packages\\selenium\\webdriver\\remote\\errorhandler.py:245\u001b[0m, in \u001b[0;36mErrorHandler.check_response\u001b[1;34m(self, response)\u001b[0m\n\u001b[0;32m    243\u001b[0m         alert_text \u001b[39m=\u001b[39m value[\u001b[39m\"\u001b[39m\u001b[39malert\u001b[39m\u001b[39m\"\u001b[39m]\u001b[39m.\u001b[39mget(\u001b[39m\"\u001b[39m\u001b[39mtext\u001b[39m\u001b[39m\"\u001b[39m)\n\u001b[0;32m    244\u001b[0m     \u001b[39mraise\u001b[39;00m exception_class(message, screen, stacktrace, alert_text)  \u001b[39m# type: ignore[call-arg]  # mypy is not smart enough here\u001b[39;00m\n\u001b[1;32m--> 245\u001b[0m \u001b[39mraise\u001b[39;00m exception_class(message, screen, stacktrace)\n",
      "\u001b[1;31mNoSuchElementException\u001b[0m: Message: no such element: Unable to locate element: {\"method\":\"xpath\",\"selector\":\"//div[@title=\"Next\"]/a\"}\n  (Session info: chrome=110.0.5481.178)\nStacktrace:\nBacktrace:\n\t(No symbol) [0x010837D3]\n\t(No symbol) [0x01018B81]\n\t(No symbol) [0x00F1B36D]\n\t(No symbol) [0x00F4D382]\n\t(No symbol) [0x00F4D4BB]\n\t(No symbol) [0x00F83302]\n\t(No symbol) [0x00F6B464]\n\t(No symbol) [0x00F81215]\n\t(No symbol) [0x00F6B216]\n\t(No symbol) [0x00F40D97]\n\t(No symbol) [0x00F4253D]\n\tGetHandleVerifier [0x012FABF2+2510930]\n\tGetHandleVerifier [0x01328EC1+2700065]\n\tGetHandleVerifier [0x0132C86C+2714828]\n\tGetHandleVerifier [0x01133480+645344]\n\t(No symbol) [0x01020FD2]\n\t(No symbol) [0x01026C68]\n\t(No symbol) [0x01026D4B]\n\t(No symbol) [0x01030D6B]\n\tBaseThreadInitThunk [0x766F7D69+25]\n\tRtlInitializeExceptionChain [0x77BEBB9B+107]\n\tRtlClearBits [0x77BEBB1F+191]\n"
     ]
    }
   ],
   "source": [
    "for page in range(4135, math.ceil(results/25)+1):\n",
    "    # print page number for every 100 pages\n",
    "    if page % 100 == 0:\n",
    "        print(\"Now at page: \", page)\n",
    "\n",
    "    # get links\n",
    "    elements = driver.find_elements('xpath', '//a[@title=\"View this notice\"]')\n",
    "\n",
    "    # if there are not 25 elements on page, add page to error_page list\n",
    "    if len(elements) != 25:\n",
    "        print(\"Error: not 25 elements on page: \", page)\n",
    "        with open('../data/error_page_2.txt', 'a') as f:\n",
    "            f.write(str(page) + '\\n')\n",
    "              \n",
    "    #write links to file\n",
    "    for link in elements:\n",
    "        with open('../data/links_2.txt', 'a') as f:\n",
    "            f.write(link.get_attribute('href') + '\\n')\n",
    "        \n",
    "    # write last page to file\n",
    "    with open('../data/last_page_2.txt', 'w') as f:\n",
    "        f.write(str(page))\n",
    "    \n",
    "    # sleep\n",
    "    time.sleep(random.uniform(1,2))\n",
    "\n",
    "    #next page\n",
    "    button = driver.find_element('xpath','//div[@title=\"Next\"]/a')\n",
    "    #button.click() # breaks with ElementClickInterceptedException\n",
    "    driver.execute_script(\"arguments[0].click();\", button) #trying to solve ElementClickInterceptedException\n",
    "\n",
    "driver.quit()"
   ]
  },
  {
   "cell_type": "code",
   "execution_count": 19,
   "metadata": {},
   "outputs": [],
   "source": [
    "# read links from file\n",
    "with open('links.txt', 'r') as f, open('links_2.txt', 'r') as f2:\n",
    "    links = f.read().splitlines()\n",
    "    #read from f2 and add to links\n",
    "    links.extend(f2.read().splitlines())\n",
    "    f.close()\n",
    "\n",
    "# save links in file\n",
    "with open('../data//links-full.txt', 'w') as f:\n",
    "    for link in links:\n",
    "        f.write(link + '\\n')\n",
    "    f.close()"
   ]
  },
  {
   "attachments": {},
   "cell_type": "markdown",
   "metadata": {},
   "source": [
    "# Downloading htmls"
   ]
  },
  {
   "cell_type": "code",
   "execution_count": 1,
   "metadata": {},
   "outputs": [],
   "source": [
    "# read links from file\n",
    "with open('../data/links-full.txt', 'r') as f:\n",
    "    links = f.read().splitlines()\n",
    "f.close()"
   ]
  },
  {
   "cell_type": "code",
   "execution_count": 2,
   "metadata": {},
   "outputs": [
    {
     "data": {
      "text/plain": [
       "389714"
      ]
     },
     "execution_count": 2,
     "metadata": {},
     "output_type": "execute_result"
    }
   ],
   "source": [
    "len(links)"
   ]
  },
  {
   "cell_type": "code",
   "execution_count": 28,
   "metadata": {},
   "outputs": [],
   "source": [
    "# creating directory for scraped data\n",
    "import os\n",
    "os.mkdir('../data/tender-data-htmls')"
   ]
  },
  {
   "cell_type": "code",
   "execution_count": 24,
   "metadata": {},
   "outputs": [
    {
     "ename": "KeyboardInterrupt",
     "evalue": "",
     "output_type": "error",
     "traceback": [
      "\u001b[1;31m---------------------------------------------------------------------------\u001b[0m",
      "\u001b[1;31mKeyboardInterrupt\u001b[0m                         Traceback (most recent call last)",
      "Cell \u001b[1;32mIn[24], line 39\u001b[0m\n\u001b[0;32m     36\u001b[0m         f\u001b[39m.\u001b[39mwrite(page)\n\u001b[0;32m     38\u001b[0m \u001b[39m# sleep\u001b[39;00m\n\u001b[1;32m---> 39\u001b[0m time\u001b[39m.\u001b[39;49msleep(random\u001b[39m.\u001b[39;49muniform(\u001b[39m1\u001b[39;49m,\u001b[39m2\u001b[39;49m))\n\u001b[0;32m     41\u001b[0m \u001b[39mif\u001b[39;00m counter \u001b[39m%\u001b[39m \u001b[39m6000\u001b[39m \u001b[39m==\u001b[39m \u001b[39m0\u001b[39m:\n\u001b[0;32m     42\u001b[0m     \u001b[39mprint\u001b[39m(\u001b[39m\"\u001b[39m\u001b[39mNow at link number: \u001b[39m\u001b[39m\"\u001b[39m, counter)\n",
      "\u001b[1;31mKeyboardInterrupt\u001b[0m: "
     ]
    }
   ],
   "source": [
    "import os\n",
    "from urllib.request import urlopen\n",
    "import time\n",
    "import random\n",
    "\n",
    "# folder for saving html files\n",
    "folder = '../data/tender-data-htmls//'\n",
    "\n",
    "# saving html files\n",
    "for counter, link in enumerate(links, 1): # starts from 1\n",
    "    if counter < 130000: # scraping distributed across 4 machines\n",
    "\n",
    "        # print counter to keep track of progress\n",
    "        if counter % 1000 == 0:\n",
    "            print(\"Now at link number: \", counter)\n",
    "\n",
    "        # write last link to file \n",
    "        with open('link_counter.txt', 'w') as f:\n",
    "            f.write(str(counter))\n",
    "        \n",
    "        # link name\n",
    "        notice_id = link.split(':')[-4]\n",
    "        name = folder + notice_id + \".html\"\n",
    "            \n",
    "        # download html if file does not exist\n",
    "        # if file exists, skip\n",
    "        if not os.path.isfile(name):\n",
    "            \n",
    "            # get html\n",
    "            page = urlopen(link).read().decode('utf-8')\n",
    "\n",
    "            # save html as name\n",
    "            with open(name, 'w', encoding='utf-8') as f:\n",
    "                f.write(page)\n",
    "\n",
    "        # sleep\n",
    "        time.sleep(random.uniform(1,2))\n",
    "\n",
    "        if counter % 6000 == 0:\n",
    "            print(\"Now at link number: \", counter)\n",
    "            time.sleep(600)\n"
   ]
  }
 ],
 "metadata": {
  "kernelspec": {
   "display_name": "saas-in-eu-NeA8_TIc",
   "language": "python",
   "name": "python3"
  },
  "language_info": {
   "codemirror_mode": {
    "name": "ipython",
    "version": 3
   },
   "file_extension": ".py",
   "mimetype": "text/x-python",
   "name": "python",
   "nbconvert_exporter": "python",
   "pygments_lexer": "ipython3",
   "version": "3.10.5"
  },
  "orig_nbformat": 4,
  "vscode": {
   "interpreter": {
    "hash": "f381d90e69f5025c354a600a2cf39ce2857dd0aad78952a7b16a614f9e490453"
   }
  }
 },
 "nbformat": 4,
 "nbformat_minor": 2
}
