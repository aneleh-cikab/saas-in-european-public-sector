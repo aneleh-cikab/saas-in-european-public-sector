{
 "cells": [
  {
   "attachments": {},
   "cell_type": "markdown",
   "metadata": {},
   "source": [
    "# This notebook reads parsed tender data and cleans the dataset. Saved dataset is further processed in missing-data-analysis."
   ]
  },
  {
   "cell_type": "code",
   "execution_count": 2,
   "metadata": {},
   "outputs": [],
   "source": [
    "# imports\n",
    "\n",
    "import pandas as pd\n",
    "import numpy as np\n",
    "import re\n",
    "\n",
    "from helper.data_cleaning import find_highest_value, extract_cpv, convert_to_euro"
   ]
  },
  {
   "attachments": {},
   "cell_type": "markdown",
   "metadata": {},
   "source": [
    "## Reading data"
   ]
  },
  {
   "cell_type": "code",
   "execution_count": 44,
   "metadata": {},
   "outputs": [
    {
     "name": "stdout",
     "output_type": "stream",
     "text": [
      "There are a total of 349590 tenders in the dataset.\n"
     ]
    },
    {
     "data": {
      "text/html": [
       "<div>\n",
       "<style scoped>\n",
       "    .dataframe tbody tr th:only-of-type {\n",
       "        vertical-align: middle;\n",
       "    }\n",
       "\n",
       "    .dataframe tbody tr th {\n",
       "        vertical-align: top;\n",
       "    }\n",
       "\n",
       "    .dataframe thead th {\n",
       "        text-align: right;\n",
       "    }\n",
       "</style>\n",
       "<table border=\"1\" class=\"dataframe\">\n",
       "  <thead>\n",
       "    <tr style=\"text-align: right;\">\n",
       "      <th></th>\n",
       "      <th>id</th>\n",
       "      <th>title</th>\n",
       "      <th>cpv</th>\n",
       "      <th>contract_type</th>\n",
       "      <th>description</th>\n",
       "      <th>country</th>\n",
       "      <th>contracting_authority_type</th>\n",
       "      <th>contracting_authority_activity</th>\n",
       "      <th>value</th>\n",
       "      <th>type_of_procedure</th>\n",
       "      <th>government_procurement_agreement</th>\n",
       "      <th>framework_agreement</th>\n",
       "      <th>notice_dispatch_date</th>\n",
       "      <th>application_date</th>\n",
       "      <th>tender_opening_date</th>\n",
       "    </tr>\n",
       "  </thead>\n",
       "  <tbody>\n",
       "    <tr>\n",
       "      <th>0</th>\n",
       "      <td>1-2021</td>\n",
       "      <td>Cyber Threat Intelligence Infrastructure – Des...</td>\n",
       "      <td>72000000 IT services: consulting, software dev...</td>\n",
       "      <td>Services</td>\n",
       "      <td>ENISA seeks to contract service providers for ...</td>\n",
       "      <td>&lt;div class=\"txtmark\" style=\"color:black\"&gt;Offic...</td>\n",
       "      <td>European institution/agency or international o...</td>\n",
       "      <td>Other activity: Cybersecurity</td>\n",
       "      <td>Value excluding VAT: 3 150 000.00 EUR</td>\n",
       "      <td>Open procedure</td>\n",
       "      <td>The procurement is covered by the Government P...</td>\n",
       "      <td>The procurement involves the establishment of ...</td>\n",
       "      <td>23/12/2020</td>\n",
       "      <td>NaN</td>\n",
       "      <td>NaN</td>\n",
       "    </tr>\n",
       "    <tr>\n",
       "      <th>1</th>\n",
       "      <td>1000-2015</td>\n",
       "      <td>Ds-rempart.</td>\n",
       "      <td>72910000 Computer back-up services</td>\n",
       "      <td>ServicesService category No 7: Computer and re...</td>\n",
       "      <td>Maîtrise d'oeuvre du secours informatique de l...</td>\n",
       "      <td>&lt;div class=\"txtmark\" style=\"color:black\"&gt;&lt;p cl...</td>\n",
       "      <td>Ministry or any other national or federal auth...</td>\n",
       "      <td>General public services</td>\n",
       "      <td>Lowest offer 1 095 202 and highest offer 2 205...</td>\n",
       "      <td>Open</td>\n",
       "      <td>The contract is covered by the Government Proc...</td>\n",
       "      <td>NaN</td>\n",
       "      <td>30.12.2014</td>\n",
       "      <td>NaN</td>\n",
       "      <td>NaN</td>\n",
       "    </tr>\n",
       "    <tr>\n",
       "      <th>2</th>\n",
       "      <td>100000-2015</td>\n",
       "      <td>Service de téléphonie filaire, de télécommunic...</td>\n",
       "      <td>64210000 Telephone and data transmission servi...</td>\n",
       "      <td>ServicesService category No 5: Telecommunicati...</td>\n",
       "      <td>Services de téléphonie filaire, de télécommuni...</td>\n",
       "      <td>&lt;div class=\"txtmark\" style=\"color:black\"&gt;&lt;p cl...</td>\n",
       "      <td>Regional or local authority</td>\n",
       "      <td>Environment</td>\n",
       "      <td>NaN</td>\n",
       "      <td>Open</td>\n",
       "      <td>The contract is covered by the Government Proc...</td>\n",
       "      <td>The notice involves the establishment of a fra...</td>\n",
       "      <td>16.3.2015</td>\n",
       "      <td>27.4.2015 - 12:00</td>\n",
       "      <td>Persons authorised to be present at the openin...</td>\n",
       "    </tr>\n",
       "    <tr>\n",
       "      <th>3</th>\n",
       "      <td>100001-2014</td>\n",
       "      <td>NaN</td>\n",
       "      <td>NaN</td>\n",
       "      <td>NaN</td>\n",
       "      <td>NaN</td>\n",
       "      <td>NaN</td>\n",
       "      <td>NaN</td>\n",
       "      <td>NaN</td>\n",
       "      <td>NaN</td>\n",
       "      <td>NaN</td>\n",
       "      <td>NaN</td>\n",
       "      <td>NaN</td>\n",
       "      <td>NaN</td>\n",
       "      <td>NaN</td>\n",
       "      <td>NaN</td>\n",
       "    </tr>\n",
       "    <tr>\n",
       "      <th>4</th>\n",
       "      <td>100004-2015</td>\n",
       "      <td>NaN</td>\n",
       "      <td>48810000 Information systems, 48000000 Softwar...</td>\n",
       "      <td>ServicesService category No 7: Computer and re...</td>\n",
       "      <td>Les prestations objet de la consultation conce...</td>\n",
       "      <td>&lt;div class=\"txtmark\" style=\"color:black\"&gt;&lt;p cl...</td>\n",
       "      <td>Body governed by public law</td>\n",
       "      <td>Environment</td>\n",
       "      <td>Ce marché sera conclu sous la forme d'un march...</td>\n",
       "      <td>Open</td>\n",
       "      <td>The contract is covered by the Government Proc...</td>\n",
       "      <td>The notice involves a public contract</td>\n",
       "      <td>17.3.2015</td>\n",
       "      <td>27.4.2015 - 16:00</td>\n",
       "      <td>NaN</td>\n",
       "    </tr>\n",
       "  </tbody>\n",
       "</table>\n",
       "</div>"
      ],
      "text/plain": [
       "            id                                              title  \\\n",
       "0       1-2021  Cyber Threat Intelligence Infrastructure – Des...   \n",
       "1    1000-2015                                        Ds-rempart.   \n",
       "2  100000-2015  Service de téléphonie filaire, de télécommunic...   \n",
       "3  100001-2014                                                NaN   \n",
       "4  100004-2015                                                NaN   \n",
       "\n",
       "                                                 cpv  \\\n",
       "0  72000000 IT services: consulting, software dev...   \n",
       "1                 72910000 Computer back-up services   \n",
       "2  64210000 Telephone and data transmission servi...   \n",
       "3                                                NaN   \n",
       "4  48810000 Information systems, 48000000 Softwar...   \n",
       "\n",
       "                                       contract_type  \\\n",
       "0                                           Services   \n",
       "1  ServicesService category No 7: Computer and re...   \n",
       "2  ServicesService category No 5: Telecommunicati...   \n",
       "3                                                NaN   \n",
       "4  ServicesService category No 7: Computer and re...   \n",
       "\n",
       "                                         description  \\\n",
       "0  ENISA seeks to contract service providers for ...   \n",
       "1  Maîtrise d'oeuvre du secours informatique de l...   \n",
       "2  Services de téléphonie filaire, de télécommuni...   \n",
       "3                                                NaN   \n",
       "4  Les prestations objet de la consultation conce...   \n",
       "\n",
       "                                             country  \\\n",
       "0  <div class=\"txtmark\" style=\"color:black\">Offic...   \n",
       "1  <div class=\"txtmark\" style=\"color:black\"><p cl...   \n",
       "2  <div class=\"txtmark\" style=\"color:black\"><p cl...   \n",
       "3                                                NaN   \n",
       "4  <div class=\"txtmark\" style=\"color:black\"><p cl...   \n",
       "\n",
       "                          contracting_authority_type  \\\n",
       "0  European institution/agency or international o...   \n",
       "1  Ministry or any other national or federal auth...   \n",
       "2                        Regional or local authority   \n",
       "3                                                NaN   \n",
       "4                        Body governed by public law   \n",
       "\n",
       "  contracting_authority_activity  \\\n",
       "0  Other activity: Cybersecurity   \n",
       "1        General public services   \n",
       "2                    Environment   \n",
       "3                            NaN   \n",
       "4                    Environment   \n",
       "\n",
       "                                               value type_of_procedure  \\\n",
       "0              Value excluding VAT: 3 150 000.00 EUR    Open procedure   \n",
       "1  Lowest offer 1 095 202 and highest offer 2 205...              Open   \n",
       "2                                                NaN              Open   \n",
       "3                                                NaN               NaN   \n",
       "4  Ce marché sera conclu sous la forme d'un march...              Open   \n",
       "\n",
       "                    government_procurement_agreement  \\\n",
       "0  The procurement is covered by the Government P...   \n",
       "1  The contract is covered by the Government Proc...   \n",
       "2  The contract is covered by the Government Proc...   \n",
       "3                                                NaN   \n",
       "4  The contract is covered by the Government Proc...   \n",
       "\n",
       "                                 framework_agreement notice_dispatch_date  \\\n",
       "0  The procurement involves the establishment of ...           23/12/2020   \n",
       "1                                                NaN           30.12.2014   \n",
       "2  The notice involves the establishment of a fra...            16.3.2015   \n",
       "3                                                NaN                  NaN   \n",
       "4              The notice involves a public contract            17.3.2015   \n",
       "\n",
       "    application_date                                tender_opening_date  \n",
       "0                NaN                                                NaN  \n",
       "1                NaN                                                NaN  \n",
       "2  27.4.2015 - 12:00  Persons authorised to be present at the openin...  \n",
       "3                NaN                                                NaN  \n",
       "4  27.4.2015 - 16:00                                                NaN  "
      ]
     },
     "execution_count": 44,
     "metadata": {},
     "output_type": "execute_result"
    }
   ],
   "source": [
    "columns = [\"id\", \"title\", \"cpv\", \"contract_type\", \"description\", \"country\", \"contracting_authority_type\", \"contracting_authority_activity\", \"value\", \"type_of_procedure\", \n",
    "           \"government_procurement_agreement\", \"framework_agreement\", \"notice_dispatch_date\", \"application_date\", \"tender_opening_date\"]\n",
    "\n",
    "# read data\n",
    "df = pd.read_csv('../data/parsed_data_new.csv', encoding='utf-8', names=columns, low_memory=False)\n",
    "\n",
    "print(f\"There are a total of {len(df)} tenders in the dataset.\")\n",
    "\n",
    "df.head()"
   ]
  },
  {
   "cell_type": "code",
   "execution_count": 45,
   "metadata": {},
   "outputs": [
    {
     "name": "stderr",
     "output_type": "stream",
     "text": [
      "C:\\Users\\bakic\\AppData\\Local\\Temp\\ipykernel_27736\\3061255708.py:22: FutureWarning: The default value of regex will change from True to False in a future version.\n",
      "  df[\"contracting_authority_type\"] = df[\"contracting_authority_type\"].str.replace('[^\\w\\s]','').str.replace('\\n', '')\n",
      "C:\\Users\\bakic\\AppData\\Local\\Temp\\ipykernel_27736\\3061255708.py:34: FutureWarning: The default value of regex will change from True to False in a future version.\n",
      "  df[\"contracting_authority_activity\"] = df[\"contracting_authority_activity\"].str.replace('[^\\w\\s]','').str.replace('\\n', '')\n"
     ]
    }
   ],
   "source": [
    "# cleaning df\n",
    "\n",
    "# Value. Since the value column contains a lot of information, we need to extract the currency and the highest value from the column.\n",
    "\n",
    "european_currencies = \"EUR|GBP|CZK|HRK|DKK|PLN|RON|SEK|CHF|ISK|NOK|HUF|BAM|MKD|ALL|UAH|MDL|RSD|BGN\"\n",
    "df['currency'] = df['value'].replace(np.nan, \"\").apply(lambda x: re.findall(european_currencies, x)[0] if re.findall(european_currencies, x) else None)\n",
    "df['value_hi'] = df['value'].apply(find_highest_value)\n",
    "\n",
    "#CPV. Extract all numbers from column cpv and save them in a list.\n",
    "df[\"cpv\"] = df[\"cpv\"].apply(extract_cpv)\n",
    "\n",
    "# Year. Extract year from notice_dispatch_date, application_date, tender_opening_date and id.\n",
    "\n",
    "df[\"notice_dispatch_date\"] = df[\"notice_dispatch_date\"].str.extract('(\\d{4})')\n",
    "df[\"application_date\"] = df[\"application_date\"].str.extract('(\\d{4})')\n",
    "df[\"tender_opening_date\"] = df[\"tender_opening_date\"].str.extract('(\\d{4})')\n",
    "df[\"id-year\"] = df[\"id\"].str.split(\"-\").str[1]\n",
    "df[\"year\"] = df[\"notice_dispatch_date\"].fillna(df[\"application_date\"]).fillna(df[\"tender_opening_date\"]).fillna(df[\"id-year\"])\n",
    "\n",
    "# Contracting authority type.\n",
    "\n",
    "df[\"contracting_authority_type\"] = df[\"contracting_authority_type\"].str.replace('[^\\w\\s]','').str.replace('\\n', '')\n",
    "df[\"contracting_authority_type\"] = df[\"contracting_authority_type\"].str.replace('Other.*', 'Other', regex=True)\n",
    "df[\"contracting_authority_type\"] = df[\"contracting_authority_type\"].str.replace('Ministry or any other national or federal authority.*', \n",
    "                                                                                'Ministry or any other national or federal authority', regex=True)\n",
    "df[\"contracting_authority_type\"] = df[\"contracting_authority_type\"].str.replace('European institution.*|European Institution.*', \n",
    "                                                                                'European institution/agency or international organisation', regex=True)\n",
    "df[\"contracting_authority_type\"] = df[\"contracting_authority_type\"].str.replace('agencyoffice', 'agency/office', regex=True)\n",
    "\n",
    "\n",
    "# Contacting authority activity.\n",
    "\n",
    "df[\"contracting_authority_activity\"] = df[\"contracting_authority_activity\"].str.replace('Other.*', 'Other', regex=True)\n",
    "df[\"contracting_authority_activity\"] = df[\"contracting_authority_activity\"].str.replace('[^\\w\\s]','').str.replace('\\n', '')\n",
    "#split string in contracting_authority_activity column by capital letter and save the first word in a new column\n",
    "df[\"contracting_authority_activity\"] = df[\"contracting_authority_activity\"].str.split('(?=[A-Z])').str[1]\n",
    "\n",
    "\n",
    "# Government procurement agreement.\n",
    "\n",
    "df[\"government_procurement_agreement\"] = df[\"government_procurement_agreement\"].str.replace('.*yes?.|.*Yes?.', 'Yes', regex=True)\n",
    "df[\"government_procurement_agreement\"] = df[\"government_procurement_agreement\"].str.replace('.*no?.|.*No?.', 'No', regex=True)\n",
    "\n",
    "\n",
    "# Recoding different types of proceduresin dummy variables - and keeping NaNs.\n",
    "\n",
    "df[\"is_framework_agreement\"] = np.where(df['framework_agreement'].isna(), np.nan, \n",
    "                                        np.where(df['framework_agreement'].str.contains(\"framework agreement\"), \"Yes\", \"No\"))\n",
    "\n",
    "\n",
    "df[\"is_dynamic\"] = np.where(df['framework_agreement'].isna(), np.nan, \n",
    "                                        np.where(df['framework_agreement'].str.contains(\"dynamic purchasing system\"), \"Yes\", \"No\"))\n",
    "\n",
    "df[\"is_open\"] = np.where(df['type_of_procedure'].isna(), np.nan, \n",
    "                                        np.where(df['type_of_procedure'].str.contains(\"Open\"), \"Yes\", \"No\"))\n",
    "\n",
    "\n",
    "# recode variable \"contact_type\". Where str.contains \"Servic\" recode to \"Services\", where str.contains \"Suppli\" recode to \"Supplies\", where str.contains \n",
    "# \"Works\" recode to \"Works\". If none of the above, recode to np.nan. Save as column contract_type.\n",
    "\n",
    "df[\"contract_type\"] = np.where(df['contract_type'].str.contains(\"Servic\"), \"Services\", \n",
    "                                 np.where(df['contract_type'].str.contains(\"Suppli\"), \"Supplies\",\n",
    "                                            np.where(df['contract_type'].str.contains(\"Works\"), \"Works\", np.nan)))\n",
    "\n",
    "\n",
    "# Getting information on buyer.\n",
    "\n",
    "df['buyer_name'] = df['country'].str.extract(r'Official name: (.*?)<br/>', expand=False)\n",
    "df['buyer_address'] = df['country'].str.extract(r'Postal address: (.*?)<br/>', expand=False)\n",
    "df['buyer_town'] = df['country'].str.extract(r'Town: (.*?)<br/>', expand=False)\n",
    "df['country'] = df['country'].str.extract(r'Country: (.*?)<br/>', expand=False)\n",
    "\n",
    "# getting tender value in EUR.\n",
    "\n",
    "df[\"value_eur\"] = df.apply(convert_to_euro, axis=1)\n",
    "\n",
    "\n",
    "# keep only relevant columns: id, year, title, cpv, contract_type, description, country, \n",
    "# buyer_name, buyer_address, buyer_town, contracting_authority_type, contracting_authority_activity, \n",
    "# is_framework_agreement, is_dynamic, is_open, value_eur\n",
    "\n",
    "df = df[[\"id\", \"year\", \"title\", \"cpv\", \"contract_type\", \"description\", \"country\", \"buyer_name\", \"buyer_address\", \"buyer_town\",\n",
    "            \"contracting_authority_type\", \"contracting_authority_activity\", \"government_procurement_agreement\", \"is_framework_agreement\", \"is_dynamic\", \"is_open\", \"value_eur\"]]"
   ]
  },
  {
   "cell_type": "code",
   "execution_count": 46,
   "metadata": {},
   "outputs": [
    {
     "data": {
      "text/html": [
       "<div>\n",
       "<style scoped>\n",
       "    .dataframe tbody tr th:only-of-type {\n",
       "        vertical-align: middle;\n",
       "    }\n",
       "\n",
       "    .dataframe tbody tr th {\n",
       "        vertical-align: top;\n",
       "    }\n",
       "\n",
       "    .dataframe thead th {\n",
       "        text-align: right;\n",
       "    }\n",
       "</style>\n",
       "<table border=\"1\" class=\"dataframe\">\n",
       "  <thead>\n",
       "    <tr style=\"text-align: right;\">\n",
       "      <th></th>\n",
       "      <th>id</th>\n",
       "      <th>year</th>\n",
       "      <th>title</th>\n",
       "      <th>cpv</th>\n",
       "      <th>contract_type</th>\n",
       "      <th>description</th>\n",
       "      <th>country</th>\n",
       "      <th>buyer_name</th>\n",
       "      <th>buyer_address</th>\n",
       "      <th>buyer_town</th>\n",
       "      <th>contracting_authority_type</th>\n",
       "      <th>contracting_authority_activity</th>\n",
       "      <th>government_procurement_agreement</th>\n",
       "      <th>is_framework_agreement</th>\n",
       "      <th>is_dynamic</th>\n",
       "      <th>is_open</th>\n",
       "      <th>value_eur</th>\n",
       "    </tr>\n",
       "  </thead>\n",
       "  <tbody>\n",
       "    <tr>\n",
       "      <th>0</th>\n",
       "      <td>1-2021</td>\n",
       "      <td>2020</td>\n",
       "      <td>Cyber Threat Intelligence Infrastructure – Des...</td>\n",
       "      <td>[72000000]</td>\n",
       "      <td>Services</td>\n",
       "      <td>ENISA seeks to contract service providers for ...</td>\n",
       "      <td>Greece</td>\n",
       "      <td>European Union Agency for Cybersecurity</td>\n",
       "      <td>1 Vasilissis Sofias Street</td>\n",
       "      <td>Maroussi</td>\n",
       "      <td>European institution/agency or international o...</td>\n",
       "      <td>Other</td>\n",
       "      <td>No</td>\n",
       "      <td>Yes</td>\n",
       "      <td>No</td>\n",
       "      <td>Yes</td>\n",
       "      <td>3150000</td>\n",
       "    </tr>\n",
       "    <tr>\n",
       "      <th>1</th>\n",
       "      <td>1000-2015</td>\n",
       "      <td>2014</td>\n",
       "      <td>Ds-rempart.</td>\n",
       "      <td>[72910000]</td>\n",
       "      <td>Services</td>\n",
       "      <td>Maîtrise d'oeuvre du secours informatique de l...</td>\n",
       "      <td>France</td>\n",
       "      <td>Ministère de l'économie</td>\n",
       "      <td>Secrétariat général – SEP 1a – 18 avenue Léon ...</td>\n",
       "      <td>Paris Cedex 20</td>\n",
       "      <td>Ministry or any other national or federal auth...</td>\n",
       "      <td>General public services</td>\n",
       "      <td>Yes</td>\n",
       "      <td>nan</td>\n",
       "      <td>nan</td>\n",
       "      <td>Yes</td>\n",
       "      <td>2205140</td>\n",
       "    </tr>\n",
       "    <tr>\n",
       "      <th>2</th>\n",
       "      <td>100000-2015</td>\n",
       "      <td>2015</td>\n",
       "      <td>Service de téléphonie filaire, de télécommunic...</td>\n",
       "      <td>[64210000, 64212000, 64221000, 72400000]</td>\n",
       "      <td>Services</td>\n",
       "      <td>Services de téléphonie filaire, de télécommuni...</td>\n",
       "      <td>France</td>\n",
       "      <td>Communauté d'agglomération du Bassin d'Arcacho...</td>\n",
       "      <td>2 allée d'Espagne, BP 147</td>\n",
       "      <td>Arcachon Cedex</td>\n",
       "      <td>Regional or local authority</td>\n",
       "      <td>Environment</td>\n",
       "      <td>Yes</td>\n",
       "      <td>Yes</td>\n",
       "      <td>No</td>\n",
       "      <td>Yes</td>\n",
       "      <td>NaN</td>\n",
       "    </tr>\n",
       "    <tr>\n",
       "      <th>3</th>\n",
       "      <td>100001-2014</td>\n",
       "      <td>2014</td>\n",
       "      <td>NaN</td>\n",
       "      <td>NaN</td>\n",
       "      <td>Services</td>\n",
       "      <td>NaN</td>\n",
       "      <td>NaN</td>\n",
       "      <td>NaN</td>\n",
       "      <td>NaN</td>\n",
       "      <td>NaN</td>\n",
       "      <td>NaN</td>\n",
       "      <td>NaN</td>\n",
       "      <td>NaN</td>\n",
       "      <td>nan</td>\n",
       "      <td>nan</td>\n",
       "      <td>nan</td>\n",
       "      <td>NaN</td>\n",
       "    </tr>\n",
       "    <tr>\n",
       "      <th>4</th>\n",
       "      <td>100004-2015</td>\n",
       "      <td>2015</td>\n",
       "      <td>NaN</td>\n",
       "      <td>[48810000, 48000000]</td>\n",
       "      <td>Services</td>\n",
       "      <td>Les prestations objet de la consultation conce...</td>\n",
       "      <td>France</td>\n",
       "      <td>Cerema</td>\n",
       "      <td>Bât. 4 — 25 avenue François Mitterrand — CS 92...</td>\n",
       "      <td>Bron Cedex</td>\n",
       "      <td>Body governed by public law</td>\n",
       "      <td>Environment</td>\n",
       "      <td>Yes</td>\n",
       "      <td>No</td>\n",
       "      <td>No</td>\n",
       "      <td>Yes</td>\n",
       "      <td>450000</td>\n",
       "    </tr>\n",
       "  </tbody>\n",
       "</table>\n",
       "</div>"
      ],
      "text/plain": [
       "            id  year                                              title  \\\n",
       "0       1-2021  2020  Cyber Threat Intelligence Infrastructure – Des...   \n",
       "1    1000-2015  2014                                        Ds-rempart.   \n",
       "2  100000-2015  2015  Service de téléphonie filaire, de télécommunic...   \n",
       "3  100001-2014  2014                                                NaN   \n",
       "4  100004-2015  2015                                                NaN   \n",
       "\n",
       "                                        cpv contract_type  \\\n",
       "0                                [72000000]      Services   \n",
       "1                                [72910000]      Services   \n",
       "2  [64210000, 64212000, 64221000, 72400000]      Services   \n",
       "3                                       NaN      Services   \n",
       "4                      [48810000, 48000000]      Services   \n",
       "\n",
       "                                         description country  \\\n",
       "0  ENISA seeks to contract service providers for ...  Greece   \n",
       "1  Maîtrise d'oeuvre du secours informatique de l...  France   \n",
       "2  Services de téléphonie filaire, de télécommuni...  France   \n",
       "3                                                NaN     NaN   \n",
       "4  Les prestations objet de la consultation conce...  France   \n",
       "\n",
       "                                          buyer_name  \\\n",
       "0            European Union Agency for Cybersecurity   \n",
       "1                            Ministère de l'économie   \n",
       "2  Communauté d'agglomération du Bassin d'Arcacho...   \n",
       "3                                                NaN   \n",
       "4                                             Cerema   \n",
       "\n",
       "                                       buyer_address      buyer_town  \\\n",
       "0                         1 Vasilissis Sofias Street        Maroussi   \n",
       "1  Secrétariat général – SEP 1a – 18 avenue Léon ...  Paris Cedex 20   \n",
       "2                          2 allée d'Espagne, BP 147  Arcachon Cedex   \n",
       "3                                                NaN             NaN   \n",
       "4  Bât. 4 — 25 avenue François Mitterrand — CS 92...      Bron Cedex   \n",
       "\n",
       "                          contracting_authority_type  \\\n",
       "0  European institution/agency or international o...   \n",
       "1  Ministry or any other national or federal auth...   \n",
       "2                        Regional or local authority   \n",
       "3                                                NaN   \n",
       "4                        Body governed by public law   \n",
       "\n",
       "  contracting_authority_activity government_procurement_agreement  \\\n",
       "0                          Other                               No   \n",
       "1        General public services                              Yes   \n",
       "2                    Environment                              Yes   \n",
       "3                            NaN                              NaN   \n",
       "4                    Environment                              Yes   \n",
       "\n",
       "  is_framework_agreement is_dynamic is_open value_eur  \n",
       "0                    Yes         No     Yes   3150000  \n",
       "1                    nan        nan     Yes   2205140  \n",
       "2                    Yes         No     Yes       NaN  \n",
       "3                    nan        nan     nan       NaN  \n",
       "4                     No         No     Yes    450000  "
      ]
     },
     "execution_count": 46,
     "metadata": {},
     "output_type": "execute_result"
    }
   ],
   "source": [
    "df.head()"
   ]
  },
  {
   "attachments": {},
   "cell_type": "markdown",
   "metadata": {},
   "source": [
    "# Duplicate check\n",
    "\n",
    "Note: there will be no duplicates based on the id - these were removed already in the stage of html download.\n",
    "Based on a manual check, current duplicates in the dataset are based on either a) rows that have all or many missing data b) tenders that were published multiple times as there were no suppliers."
   ]
  },
  {
   "cell_type": "code",
   "execution_count": 47,
   "metadata": {},
   "outputs": [
    {
     "name": "stdout",
     "output_type": "stream",
     "text": [
      "Number of rows with missing data in both title and description:  21349\n"
     ]
    }
   ],
   "source": [
    "print(\"Number of rows with missing data in both title and description: \", len(df[(df[\"title\"].isna()) & (df[\"description\"].isna())]))\n",
    "\n",
    "# Drop rows with missing data in both title and description.\n",
    "\n",
    "df = df.dropna(subset=[\"title\", \"description\"], how=\"all\")"
   ]
  },
  {
   "cell_type": "code",
   "execution_count": 49,
   "metadata": {},
   "outputs": [
    {
     "name": "stdout",
     "output_type": "stream",
     "text": [
      "Number of rows that are duplicates:  35715\n"
     ]
    },
    {
     "data": {
      "text/plain": [
       "title                                                                                                                                                                                                                                      description                                                                                                                                                                                                                                                                                                                                                                                                                                                                                                                                                                                                                                                                                                                                                                                                                                                                                                                                                                                                                                                                                                                                                                                                                                                                                                                                                                                                                                                                                                                                                                                                                                                                                                                                                                                                                                                                                                           country   buyer_name                                                                           buyer_address                          buyer_town  value_eur  year\n",
       "Nabava energijsko učinkovite računalniške opreme                                                                                                                                                                                           Nabava energijsko učinkovite računalniške opreme.                                                                                                                                                                                                                                                                                                                                                                                                                                                                                                                                                                                                                                                                                                                                                                                                                                                                                                                                                                                                                                                                                                                                                                                                                                                                                                                                                                                                                                                                                                                                                                                                                                                                                                                                                                                                                                                                     Slovenia  Univerzitetni klinični center Maribor                                                Ljubljanska ulica 5                    Maribor     484547     2020    8\n",
       "Dobava računalniške opreme                                                                                                                                                                                                                 Predmet naročila je dobava stacionarnih in prenosnih računalnikov, monitorjev, tiskalnikov in druge računalniške uporabniške in sistemske opreme, kot je podrobneje opredeljeno v dokumentaciji.                                                                                                                                                                                                                                                                                                                                                                                                                                                                                                                                                                                                                                                                                                                                                                                                                                                                                                                                                                                                                                                                                                                                                                                                                                                                                                                                                                                                                                                                                                                                                                                                                                                                                                                      Slovenia  Holding Slovenske elektrarne d.o.o.                                                  Koprska ulica 92                       Ljubljana   1280000    2019    8\n",
       "Methodological Support for the Performance of Literature Reviews within Evidence-based Scientific Assessments                                                                                                                              This call for tenders is being launched by the European Food Safety Authority and aims at providing to EFSA multiple framework contracts for the provision of scientific services of methodological support for literature reviews for evidence-based scientific assessments. Such support may be requested to perform and/or appraise full or part(s) of systematic reviews (SRs), as well as scoping and narrative literature reviews.                                                                                                                                                                                                                                                                                                                                                                                                                                                                                                                                                                                                                                                                                                                                                                                                                                                                                                                                                                                                                                                                                                                                                                                                                                                                                                                                                                                                                                                                              Italy     European Food Safety Authority (EFSA)                                                Via Carlo Magno 1A                     Parma       4000000    2022    6\n",
       "Servicii  integrate de comunicații  (telefonie fixă, telefonie mobilă și comunicare video on-line)  destinate sistemului administrației penitenciare, pentru o perioada de 36 luni CONFORM ANEXELOR ATASATE CAIET DE SARCINI/FISE TEHNICE  Acord-cadru cu un singur operator economic, conform prevederilor  art. 114 și art.115, alin. (1) și alin. (2), lit.a). din Legea nr. 98/2016,  art.9, alin. (3),litera b din HG 395/2016, având în vedere că la momentul demarării procedurii nu se cunosc cantitațile exacte.\\nAutoritatea contractanta organizatoare Baza de Aprovizionare, Gospodarire si Reparatii va incheia acordul cadru pentru Prestare Servicii integrate de comunicații ( telefonie fixă, telefonie mobilă și comunicare video on line) pentru Administrația Națională a Penitenciarelor – Aparat central și unitățile de penitenciare din subordinea sa care împreună formează sistemul administrației penitenciare în calitate de utilizatori de tip persoană juridică, pentru o perioada de 36 luni, cu un singur operator economic, iar contractele subsecvente vor fi incheiate si derulate de catre unitatile penitenciare beneficiare din cadrul Administratiei Nationale a Penitenciarelor conform anexelor atasate caietului de sarcini. Contractele subsecvente pot fi încheiate simultan cu operatorii economici semnatari ai acordului cadru, in functie de necesitati și fondurile bugetare disponibile, de regula trimestrial. \\nTermenele in care autoritatea contractanta va raspunde in mod clar si complet tuturor solicitarilor de clarificare/informatiilor suplimentare solicitate de operatorii economici interesati:  în a 11-a zi inainte de termenul limită stabilit în anunțul de participare pentru depunerea ofertelor având în vedere că, potrivit art. 161 din Legea nr. 98/2016, operatorii economici trebuie să aibă cel puțin 10 zile să își întocmească oferta în conformitate cu cerințele suplimentare introduse prin răspunsul la clarificări/informații suplimentare.\\n   Numarul de zile pana la care se pot solicita clarificari, inainte de data limita de depunere a ofertelor, este de 20 zile.  Romania   BAZA DE  APROVIZIONARE, GOSPODARIRE  SI REPARATII                                    str. Sabarului, nr.1                   Jilava      338408     2022    4\n",
       "Centrálne obstarávanie licencií a súvisiacich služieb                                                                                                                                                                                      Predmetom zákaziek zadávaných v dynamickom nákupnom systéme bude nákup desktop a server licencií (tovar, služba/predplatné) akými sú operačný systém, licencie na klientsky prístup (CAL), cloudové softvérové licencie, kancelárske office softvér systémy na tvorbu dokumentov a ich nadstavby pre vzájomnú komunikáciu a kolaboráciu.\\nCieľom zriadenia dynamického nákupného systému a zadávania zákaziek v dynamickom nákupnom systéme je umožniť verejným obstarávateľom flexibilné zadávanie zákaziek v súlade so zákonom o verejnom obstarávaní podľa svojich reálnych potrieb, t.j. v čase a rozsahu, ktorý mu je známy.                                                                                                                                                                                                                                                                                                                                                                                                                                                                                                                                                                                                                                                                                                                                                                                                                                                                                                                                                                                                                                                                                                                                                                                                                                                                                     Slovakia  Ministerstvo investícií, regionálneho rozvoja a informatizácie Slovenskej republiky  Štefánikova 15                         Bratislava  823211     2021    4\n",
       "                                                                                                                                                                                                                                                                                                                                                                                                                                                                                                                                                                                                                                                                                                                                                                                                                                                                                                                                                                                                                                                                                                                                                                                                                                                                                                                                                                                                                                                                                                                                                                                                                                                                                                                                                                                                                                                                                                                                                                                                                                                                                                                                                                                                                                                                                                                                     ..\n",
       "Juristische Online-Datenbank                                                                                                                                                                                                               Nutzungsrechte an einer juristischen Online-Fachdatenbank                                                                                                                                                                                                                                                                                                                                                                                                                                                                                                                                                                                                                                                                                                                                                                                                                                                                                                                                                                                                                                                                                                                                                                                                                                                                                                                                                                                                                                                                                                                                                                                                                                                                                                                                                                                                                                                             Germany   Landeshauptstadt München, Direktorium, Vergabestelle 1 Amtsleitung                   Birkerstraße 18                        München     nan        2022    1\n",
       "Juristisches Auskunftssystem mit einem Erfassungssystem für Thüringer Verwaltungsvorschriften (JAS-Th)                                                                                                                                     Beschaffung eines webbasierten internen und externen juristischen Auskunftssystems mit einem webbasierten Erfassungswerkzeug für Thüringer Verwaltungsvorschriften.                                                                                                                                                                                                                                                                                                                                                                                                                                                                                                                                                                                                                                                                                                                                                                                                                                                                                                                                                                                                                                                                                                                                                                                                                                                                                                                                                                                                                                                                                                                                                                                                                                                                                                                                                   Germany   Freistaat Thüringen vertreten durch das Thüringer Finanzministerium                  Ludwig-Erhard-Ring 7                   Erfurt      nan        2020    1\n",
       "Järjekorra- ja broneerimissüsteemi rentimine                                                                                                                                                                                               Järjekorra- ja broneerimissüsteemi rentimine                                                                                                                                                                                                                                                                                                                                                                                                                                                                                                                                                                                                                                                                                                                                                                                                                                                                                                                                                                                                                                                                                                                                                                                                                                                                                                                                                                                                                                                                                                                                                                                                                                                                                                                                                                                                                                                                          Estonia   Politsei- ja Piirivalveamet                                                          Pärnu mnt 139                          Tallinn     800000     2021    1\n",
       "Järjekorra- ja broneerimissüsteemide rentimine                                                                                                                                                                                             Järjekorra- ja broneerimissüsteemide rentimine.                                                                                                                                                                                                                                                                                                                                                                                                                                                                                                                                                                                                                                                                                                                                                                                                                                                                                                                                                                                                                                                                                                                                                                                                                                                                                                                                                                                                                                                                                                                                                                                                                                                                                                                                                                                                                                                                       Estonia   Politsei- ja Piirivalveamet                                                          Pärnu mnt 139                          Tallinn     300000     2018    1\n",
       "„Servicii necesare funcționării sistemelor de emitere electronică a legitimațiilor de călătorie și rezervare locuri în trafic internațional conectate prin rețeaua Hermes VPN la serverele aplicației dedicate’’                           Servicii necesare funcționării sistemelor de emitere electronică a legitimațiilor de călătorie și rezervare locuri în trafic internațional conectate prin rețeaua Hermes VPN la serverele aplicației dedicate’\\nSNTFC 4/2020\\nOperatorul economic va putea solicita clarificari in termen de 18 zile inainte de data limita de depunere a ofertelor, entitatea contractanta raspunzand in mod clar si complet tuturor solicitarilor de clarificare/informatiilor suplimentare cu 11 zile inainte de termenul stabilit pentru depunerea ofertelor                                                                                                                                                                                                                                                                                                                                                                                                                                                                                                                                                                                                                                                                                                                                                                                                                                                                                                                                                                                                                                                                                                                                                                                                                                                                                                                                                                      Romania   SNTFC \"CFR CALATORI\" S.A.                                                            Str. Dinicu Golescu, nr. 38, Sector 1  Bucuresti   388198     2022    1\n",
       "Length: 2902, dtype: int64"
      ]
     },
     "execution_count": 49,
     "metadata": {},
     "output_type": "execute_result"
    }
   ],
   "source": [
    "duplicates = df[df.duplicated(subset=[\"title\", \"description\", \"country\", \"buyer_name\", \"buyer_address\", \"buyer_town\", \"value_eur\", \"year\"])]\n",
    "\n",
    "print(\"Number of rows that are duplicates: \", len(duplicates))\n",
    "\n",
    "duplicates_sum = duplicates.groupby([\"title\", \"description\", \"country\", \"buyer_name\", \"buyer_address\", \"buyer_town\", \"value_eur\", \"year\"]).size().sort_values(ascending=False)\n",
    "duplicates_sum\n"
   ]
  },
  {
   "cell_type": "code",
   "execution_count": 50,
   "metadata": {},
   "outputs": [],
   "source": [
    "# droping duplicates\n",
    "\n",
    "df = df.drop_duplicates(subset=[\"title\", \"description\", \"country\", \"buyer_name\", \"buyer_address\", \"buyer_town\", \"value_eur\", \"year\"])"
   ]
  },
  {
   "attachments": {},
   "cell_type": "markdown",
   "metadata": {},
   "source": [
    "# Saving deduplicated data"
   ]
  },
  {
   "cell_type": "code",
   "execution_count": 51,
   "metadata": {},
   "outputs": [],
   "source": [
    "# save cleaned df\n",
    "\n",
    "df.to_csv('../data/cleaned_tender_data.csv', index=False)"
   ]
  },
  {
   "attachments": {},
   "cell_type": "markdown",
   "metadata": {},
   "source": [
    "# Simple value check"
   ]
  },
  {
   "cell_type": "code",
   "execution_count": 52,
   "metadata": {},
   "outputs": [
    {
     "name": "stdout",
     "output_type": "stream",
     "text": [
      "End number of records:  292526\n"
     ]
    }
   ],
   "source": [
    "df = pd.read_csv('../data/cleaned_tender_data.csv')\n",
    "\n",
    "print(\"End number of records: \", len(df))"
   ]
  },
  {
   "cell_type": "code",
   "execution_count": 53,
   "metadata": {},
   "outputs": [
    {
     "data": {
      "text/plain": [
       "Yes    176658\n",
       "No      70478\n",
       "NaN     45390\n",
       "Name: is_open, dtype: int64"
      ]
     },
     "execution_count": 53,
     "metadata": {},
     "output_type": "execute_result"
    }
   ],
   "source": [
    "# for values in type of procedure, print unique values with their counts, including nan\n",
    "\n",
    "df[\"is_open\"].value_counts(dropna=False)"
   ]
  },
  {
   "cell_type": "code",
   "execution_count": 54,
   "metadata": {},
   "outputs": [
    {
     "data": {
      "text/plain": [
       "Services    198865\n",
       "Supplies     90348\n",
       "Works         3208\n",
       "NaN            105\n",
       "Name: contract_type, dtype: int64"
      ]
     },
     "execution_count": 54,
     "metadata": {},
     "output_type": "execute_result"
    }
   ],
   "source": [
    "df[\"contract_type\"].value_counts(dropna=False)"
   ]
  },
  {
   "cell_type": "code",
   "execution_count": 55,
   "metadata": {},
   "outputs": [
    {
     "data": {
      "text/plain": [
       "2021    47011\n",
       "2022    45682\n",
       "2020    44161\n",
       "2019    40161\n",
       "2015    27084\n",
       "2014    27022\n",
       "2016    26274\n",
       "2018    20245\n",
       "2017    14733\n",
       "2013      153\n",
       "Name: year, dtype: int64"
      ]
     },
     "execution_count": 55,
     "metadata": {},
     "output_type": "execute_result"
    }
   ],
   "source": [
    "df[\"year\"].value_counts(dropna=False)"
   ]
  },
  {
   "cell_type": "code",
   "execution_count": 56,
   "metadata": {},
   "outputs": [
    {
     "data": {
      "text/plain": [
       "Yes    158962\n",
       "No      90166\n",
       "NaN     43398\n",
       "Name: government_procurement_agreement, dtype: int64"
      ]
     },
     "execution_count": 56,
     "metadata": {},
     "output_type": "execute_result"
    }
   ],
   "source": [
    "df[\"government_procurement_agreement\"].value_counts(dropna=False)"
   ]
  },
  {
   "cell_type": "code",
   "execution_count": 57,
   "metadata": {},
   "outputs": [
    {
     "data": {
      "text/plain": [
       "Body governed by public law                                  65054\n",
       "Regional or local authority                                  59671\n",
       "NaN                                                          50233\n",
       "Other                                                        50188\n",
       "Ministry or any other national or federal authority          46906\n",
       "National or federal agency/office                            11329\n",
       "Regional or local agency/office                               5855\n",
       "European institution/agency or international organisation     3290\n",
       "Name: contracting_authority_type, dtype: int64"
      ]
     },
     "execution_count": 57,
     "metadata": {},
     "output_type": "execute_result"
    }
   ],
   "source": [
    "df[\"contracting_authority_type\"].value_counts(dropna=False)"
   ]
  },
  {
   "cell_type": "code",
   "execution_count": 58,
   "metadata": {},
   "outputs": [
    {
     "data": {
      "text/plain": [
       "General public services                                     88305\n",
       "Other                                                       58269\n",
       "NaN                                                         30335\n",
       "Health                                                      28614\n",
       "Education                                                   24114\n",
       "Economic and financial affairs                              12009\n",
       "Public order and safety                                      8138\n",
       "Electricity                                                  6083\n",
       "Environment                                                  5112\n",
       "Social protection                                            4849\n",
       "Defence                                                      4794\n",
       "Housing and community amenities                              4061\n",
       "Railway services                                             3617\n",
       "Recreation culture and religion                              3603\n",
       "Urban railway tramway trolleybus or bus services             3233\n",
       "Water                                                        1899\n",
       "Production transport and distribution of gas and heat        1874\n",
       "Airportrelated activities                                    1643\n",
       "Postal services                                              1208\n",
       "Portrelated activities                                        477\n",
       "Extraction of gas and oil                                     159\n",
       "Exploration and extraction of coal and other solid fuels       87\n",
       "Exploration and extraction of gas and oil                      43\n",
       "Name: contracting_authority_activity, dtype: int64"
      ]
     },
     "execution_count": 58,
     "metadata": {},
     "output_type": "execute_result"
    }
   ],
   "source": [
    "# save value counts as csv\n",
    "\n",
    "df[\"contracting_authority_activity\"].value_counts(dropna=False)"
   ]
  },
  {
   "cell_type": "code",
   "execution_count": 59,
   "metadata": {},
   "outputs": [
    {
     "data": {
      "text/plain": [
       "No     198451\n",
       "Yes     54076\n",
       "NaN     39999\n",
       "Name: is_framework_agreement, dtype: int64"
      ]
     },
     "execution_count": 59,
     "metadata": {},
     "output_type": "execute_result"
    }
   ],
   "source": [
    "df[\"is_framework_agreement\"].value_counts(dropna=False)"
   ]
  },
  {
   "cell_type": "code",
   "execution_count": 60,
   "metadata": {},
   "outputs": [
    {
     "data": {
      "text/plain": [
       "No     249682\n",
       "NaN     39999\n",
       "Yes      2845\n",
       "Name: is_dynamic, dtype: int64"
      ]
     },
     "execution_count": 60,
     "metadata": {},
     "output_type": "execute_result"
    }
   ],
   "source": [
    "df[\"is_dynamic\"].value_counts(dropna=False)"
   ]
  }
 ],
 "metadata": {
  "kernelspec": {
   "display_name": "saas-in-eu-NeA8_TIc",
   "language": "python",
   "name": "python3"
  },
  "language_info": {
   "codemirror_mode": {
    "name": "ipython",
    "version": 3
   },
   "file_extension": ".py",
   "mimetype": "text/x-python",
   "name": "python",
   "nbconvert_exporter": "python",
   "pygments_lexer": "ipython3",
   "version": "3.10.5"
  },
  "orig_nbformat": 4
 },
 "nbformat": 4,
 "nbformat_minor": 2
}
