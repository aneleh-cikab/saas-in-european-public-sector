{
 "cells": [
  {
   "cell_type": "code",
   "execution_count": 1,
   "metadata": {},
   "outputs": [],
   "source": [
    "# imports\n",
    "\n",
    "import pandas as pd\n",
    "import numpy as np\n",
    "import re\n",
    "\n",
    "from helper.data_cleaning import find_highest_value, extract_cpv, convert_to_euro"
   ]
  },
  {
   "attachments": {},
   "cell_type": "markdown",
   "metadata": {},
   "source": [
    "# Reading and cleaning parsed data. \n",
    "\n",
    "This notebook reads parsed tender data and cleans the dataset.\n",
    "It creates the \"parsed_data_new.csv\" file. \n",
    "Saved dataset is further processed in the 02-descriptives notebook."
   ]
  },
  {
   "attachments": {},
   "cell_type": "markdown",
   "metadata": {},
   "source": [
    "## Reading data"
   ]
  },
  {
   "cell_type": "code",
   "execution_count": 2,
   "metadata": {},
   "outputs": [
    {
     "name": "stdout",
     "output_type": "stream",
     "text": [
      "There are a total of 349590 tenders in the dataset.\n"
     ]
    },
    {
     "data": {
      "text/html": [
       "<div>\n",
       "<style scoped>\n",
       "    .dataframe tbody tr th:only-of-type {\n",
       "        vertical-align: middle;\n",
       "    }\n",
       "\n",
       "    .dataframe tbody tr th {\n",
       "        vertical-align: top;\n",
       "    }\n",
       "\n",
       "    .dataframe thead th {\n",
       "        text-align: right;\n",
       "    }\n",
       "</style>\n",
       "<table border=\"1\" class=\"dataframe\">\n",
       "  <thead>\n",
       "    <tr style=\"text-align: right;\">\n",
       "      <th></th>\n",
       "      <th>id</th>\n",
       "      <th>title</th>\n",
       "      <th>cpv</th>\n",
       "      <th>contract_type</th>\n",
       "      <th>description</th>\n",
       "      <th>country</th>\n",
       "      <th>contracting_authority_type</th>\n",
       "      <th>contracting_authority_activity</th>\n",
       "      <th>value</th>\n",
       "      <th>type_of_procedure</th>\n",
       "      <th>government_procurement_agreement</th>\n",
       "      <th>framework_agreement</th>\n",
       "      <th>notice_dispatch_date</th>\n",
       "      <th>application_date</th>\n",
       "      <th>tender_opening_date</th>\n",
       "    </tr>\n",
       "  </thead>\n",
       "  <tbody>\n",
       "    <tr>\n",
       "      <th>0</th>\n",
       "      <td>1-2021</td>\n",
       "      <td>Cyber Threat Intelligence Infrastructure – Des...</td>\n",
       "      <td>72000000 IT services: consulting, software dev...</td>\n",
       "      <td>Services</td>\n",
       "      <td>ENISA seeks to contract service providers for ...</td>\n",
       "      <td>&lt;div class=\"txtmark\" style=\"color:black\"&gt;Offic...</td>\n",
       "      <td>European institution/agency or international o...</td>\n",
       "      <td>Other activity: Cybersecurity</td>\n",
       "      <td>Value excluding VAT: 3 150 000.00 EUR</td>\n",
       "      <td>Open procedure</td>\n",
       "      <td>The procurement is covered by the Government P...</td>\n",
       "      <td>The procurement involves the establishment of ...</td>\n",
       "      <td>23/12/2020</td>\n",
       "      <td>NaN</td>\n",
       "      <td>NaN</td>\n",
       "    </tr>\n",
       "    <tr>\n",
       "      <th>1</th>\n",
       "      <td>1000-2015</td>\n",
       "      <td>Ds-rempart.</td>\n",
       "      <td>72910000 Computer back-up services</td>\n",
       "      <td>ServicesService category No 7: Computer and re...</td>\n",
       "      <td>Maîtrise d'oeuvre du secours informatique de l...</td>\n",
       "      <td>&lt;div class=\"txtmark\" style=\"color:black\"&gt;&lt;p cl...</td>\n",
       "      <td>Ministry or any other national or federal auth...</td>\n",
       "      <td>General public services</td>\n",
       "      <td>Lowest offer 1 095 202 and highest offer 2 205...</td>\n",
       "      <td>Open</td>\n",
       "      <td>The contract is covered by the Government Proc...</td>\n",
       "      <td>No</td>\n",
       "      <td>30.12.2014</td>\n",
       "      <td>NaN</td>\n",
       "      <td>NaN</td>\n",
       "    </tr>\n",
       "    <tr>\n",
       "      <th>2</th>\n",
       "      <td>100000-2015</td>\n",
       "      <td>Service de téléphonie filaire, de télécommunic...</td>\n",
       "      <td>64210000 Telephone and data transmission servi...</td>\n",
       "      <td>ServicesService category No 5: Telecommunicati...</td>\n",
       "      <td>Services de téléphonie filaire, de télécommuni...</td>\n",
       "      <td>&lt;div class=\"txtmark\" style=\"color:black\"&gt;&lt;p cl...</td>\n",
       "      <td>Regional or local authority</td>\n",
       "      <td>Environment</td>\n",
       "      <td>NaN</td>\n",
       "      <td>Open</td>\n",
       "      <td>The contract is covered by the Government Proc...</td>\n",
       "      <td>The notice involves the establishment of a fra...</td>\n",
       "      <td>16.3.2015</td>\n",
       "      <td>27.4.2015 - 12:00</td>\n",
       "      <td>Persons authorised to be present at the openin...</td>\n",
       "    </tr>\n",
       "    <tr>\n",
       "      <th>3</th>\n",
       "      <td>100001-2014</td>\n",
       "      <td>NaN</td>\n",
       "      <td>NaN</td>\n",
       "      <td>NaN</td>\n",
       "      <td>NaN</td>\n",
       "      <td>NaN</td>\n",
       "      <td>NaN</td>\n",
       "      <td>NaN</td>\n",
       "      <td>NaN</td>\n",
       "      <td>NaN</td>\n",
       "      <td>NaN</td>\n",
       "      <td>NaN</td>\n",
       "      <td>NaN</td>\n",
       "      <td>NaN</td>\n",
       "      <td>NaN</td>\n",
       "    </tr>\n",
       "    <tr>\n",
       "      <th>4</th>\n",
       "      <td>100004-2015</td>\n",
       "      <td>NaN</td>\n",
       "      <td>48810000 Information systems, 48000000 Softwar...</td>\n",
       "      <td>ServicesService category No 7: Computer and re...</td>\n",
       "      <td>Les prestations objet de la consultation conce...</td>\n",
       "      <td>&lt;div class=\"txtmark\" style=\"color:black\"&gt;&lt;p cl...</td>\n",
       "      <td>Body governed by public law</td>\n",
       "      <td>Environment</td>\n",
       "      <td>Ce marché sera conclu sous la forme d'un march...</td>\n",
       "      <td>Open</td>\n",
       "      <td>The contract is covered by the Government Proc...</td>\n",
       "      <td>The notice involves a public contract</td>\n",
       "      <td>17.3.2015</td>\n",
       "      <td>27.4.2015 - 16:00</td>\n",
       "      <td>NaN</td>\n",
       "    </tr>\n",
       "  </tbody>\n",
       "</table>\n",
       "</div>"
      ],
      "text/plain": [
       "            id                                              title   \n",
       "0       1-2021  Cyber Threat Intelligence Infrastructure – Des...  \\\n",
       "1    1000-2015                                        Ds-rempart.   \n",
       "2  100000-2015  Service de téléphonie filaire, de télécommunic...   \n",
       "3  100001-2014                                                NaN   \n",
       "4  100004-2015                                                NaN   \n",
       "\n",
       "                                                 cpv   \n",
       "0  72000000 IT services: consulting, software dev...  \\\n",
       "1                 72910000 Computer back-up services   \n",
       "2  64210000 Telephone and data transmission servi...   \n",
       "3                                                NaN   \n",
       "4  48810000 Information systems, 48000000 Softwar...   \n",
       "\n",
       "                                       contract_type   \n",
       "0                                           Services  \\\n",
       "1  ServicesService category No 7: Computer and re...   \n",
       "2  ServicesService category No 5: Telecommunicati...   \n",
       "3                                                NaN   \n",
       "4  ServicesService category No 7: Computer and re...   \n",
       "\n",
       "                                         description   \n",
       "0  ENISA seeks to contract service providers for ...  \\\n",
       "1  Maîtrise d'oeuvre du secours informatique de l...   \n",
       "2  Services de téléphonie filaire, de télécommuni...   \n",
       "3                                                NaN   \n",
       "4  Les prestations objet de la consultation conce...   \n",
       "\n",
       "                                             country   \n",
       "0  <div class=\"txtmark\" style=\"color:black\">Offic...  \\\n",
       "1  <div class=\"txtmark\" style=\"color:black\"><p cl...   \n",
       "2  <div class=\"txtmark\" style=\"color:black\"><p cl...   \n",
       "3                                                NaN   \n",
       "4  <div class=\"txtmark\" style=\"color:black\"><p cl...   \n",
       "\n",
       "                          contracting_authority_type   \n",
       "0  European institution/agency or international o...  \\\n",
       "1  Ministry or any other national or federal auth...   \n",
       "2                        Regional or local authority   \n",
       "3                                                NaN   \n",
       "4                        Body governed by public law   \n",
       "\n",
       "  contracting_authority_activity   \n",
       "0  Other activity: Cybersecurity  \\\n",
       "1        General public services   \n",
       "2                    Environment   \n",
       "3                            NaN   \n",
       "4                    Environment   \n",
       "\n",
       "                                               value type_of_procedure   \n",
       "0              Value excluding VAT: 3 150 000.00 EUR    Open procedure  \\\n",
       "1  Lowest offer 1 095 202 and highest offer 2 205...              Open   \n",
       "2                                                NaN              Open   \n",
       "3                                                NaN               NaN   \n",
       "4  Ce marché sera conclu sous la forme d'un march...              Open   \n",
       "\n",
       "                    government_procurement_agreement   \n",
       "0  The procurement is covered by the Government P...  \\\n",
       "1  The contract is covered by the Government Proc...   \n",
       "2  The contract is covered by the Government Proc...   \n",
       "3                                                NaN   \n",
       "4  The contract is covered by the Government Proc...   \n",
       "\n",
       "                                 framework_agreement notice_dispatch_date   \n",
       "0  The procurement involves the establishment of ...           23/12/2020  \\\n",
       "1                                                 No           30.12.2014   \n",
       "2  The notice involves the establishment of a fra...            16.3.2015   \n",
       "3                                                NaN                  NaN   \n",
       "4              The notice involves a public contract            17.3.2015   \n",
       "\n",
       "    application_date                                tender_opening_date  \n",
       "0                NaN                                                NaN  \n",
       "1                NaN                                                NaN  \n",
       "2  27.4.2015 - 12:00  Persons authorised to be present at the openin...  \n",
       "3                NaN                                                NaN  \n",
       "4  27.4.2015 - 16:00                                                NaN  "
      ]
     },
     "execution_count": 2,
     "metadata": {},
     "output_type": "execute_result"
    }
   ],
   "source": [
    "columns = [\"id\", \"title\", \"cpv\", \"contract_type\", \"description\", \"country\", \"contracting_authority_type\", \"contracting_authority_activity\", \"value\", \"type_of_procedure\", \n",
    "           \"government_procurement_agreement\", \"framework_agreement\", \"notice_dispatch_date\", \"application_date\", \"tender_opening_date\"]\n",
    "\n",
    "# read data\n",
    "df = pd.read_csv('../data/parsed_data_new.csv', encoding='utf-8', names=columns, low_memory=False)\n",
    "\n",
    "print(f\"There are a total of {len(df)} tenders in the dataset.\")\n",
    "\n",
    "df.head()"
   ]
  },
  {
   "cell_type": "code",
   "execution_count": 3,
   "metadata": {},
   "outputs": [],
   "source": [
    "# cleaning df\n",
    "\n",
    "# Value. Since the value column contains a lot of information, we need to extract the currency and the highest value from the column.\n",
    "\n",
    "european_currencies = \"EUR|GBP|CZK|HRK|DKK|PLN|RON|SEK|CHF|ISK|NOK|HUF|BAM|MKD|ALL|UAH|MDL|RSD|BGN\"\n",
    "df['currency'] = df['value'].replace(np.nan, \"\").apply(lambda x: re.findall(european_currencies, x)[0] if re.findall(european_currencies, x) else None)\n",
    "df['value_hi'] = df['value'].apply(find_highest_value)\n",
    "\n",
    "# CPV. Extract all numbers from column cpv and save them in a list.\n",
    "df[\"cpv\"] = df[\"cpv\"].apply(extract_cpv)\n",
    "\n",
    "# Year. Extract year from notice_dispatch_date, application_date, tender_opening_date and id.\n",
    "\n",
    "df[\"notice_dispatch_date\"] = df[\"notice_dispatch_date\"].str.extract('(\\d{4})')\n",
    "df[\"application_date\"] = df[\"application_date\"].str.extract('(\\d{4})')\n",
    "df[\"tender_opening_date\"] = df[\"tender_opening_date\"].str.extract('(\\d{4})')\n",
    "df[\"id-year\"] = df[\"id\"].str.split(\"-\").str[1]\n",
    "df[\"year\"] = df[\"notice_dispatch_date\"].fillna(df[\"application_date\"]).fillna(df[\"tender_opening_date\"]).fillna(df[\"id-year\"])\n",
    "\n",
    "# Contracting authority type.\n",
    "\n",
    "df[\"contracting_authority_type\"] = df[\"contracting_authority_type\"].str.replace('[^\\w\\s]','').str.replace('\\n', '')\n",
    "df[\"contracting_authority_type\"] = df[\"contracting_authority_type\"].str.replace('Other.*', 'Other', regex=True)\n",
    "df[\"contracting_authority_type\"] = df[\"contracting_authority_type\"].str.replace('Ministry or any other national or federal authority.*', \n",
    "                                                                                'Ministry or any other national or federal authority', regex=True)\n",
    "df[\"contracting_authority_type\"] = df[\"contracting_authority_type\"].str.replace('European institution.*|European Institution.*', \n",
    "                                                                                'European institution/agency or international organisation', regex=True)\n",
    "df[\"contracting_authority_type\"] = df[\"contracting_authority_type\"].str.replace('agencyoffice', 'agency/office', regex=True)\n",
    "\n",
    "\n",
    "# Contacting authority activity.\n",
    "\n",
    "df[\"contracting_authority_activity\"] = df[\"contracting_authority_activity\"].str.replace('Other.*', 'Other', regex=True)\n",
    "df[\"contracting_authority_activity\"] = df[\"contracting_authority_activity\"].str.replace('[^\\w\\s]','').str.replace('\\n', '')\n",
    "#split string in contracting_authority_activity column by capital letter and save the first word in a new column\n",
    "df[\"contracting_authority_activity\"] = df[\"contracting_authority_activity\"].str.split('(?=[A-Z])').str[1]\n",
    "\n",
    "\n",
    "# Government procurement agreement.\n",
    "\n",
    "df[\"government_procurement_agreement\"] = df[\"government_procurement_agreement\"].str.replace('.*yes?.|.*Yes?.', 'Yes', regex=True)\n",
    "df[\"government_procurement_agreement\"] = df[\"government_procurement_agreement\"].str.replace('.*no?.|.*No?.', 'No', regex=True)\n",
    "\n",
    "\n",
    "# Recoding different types of proceduresin dummy variables - and keeping NaNs.\n",
    "\n",
    "df[\"is_framework_agreement\"] = np.where(df['framework_agreement'].isna(), None, \n",
    "                                        np.where(df['framework_agreement'].str.contains(\"framework agreement\"), \"Yes\", \"No\"))\n",
    "\n",
    "\n",
    "df[\"is_dynamic\"] = np.where(df['framework_agreement'].isna(), None, \n",
    "                                        np.where(df['framework_agreement'].str.contains(\"dynamic purchasing system\"), \"Yes\", \"No\"))\n",
    "\n",
    "df[\"is_open\"] = np.where(df['type_of_procedure'].isna(), None, \n",
    "                                        np.where(df['type_of_procedure'].str.contains(\"Open\"), \"Yes\", \"No\"))\n",
    "\n",
    "\n",
    "# recode variable \"contact_type\". Where str.contains \"Servic\" recode to \"Services\", where str.contains \"Suppli\" recode to \"Supplies\", where str.contains \n",
    "# \"Works\" recode to \"Works\". If none of the above, recode to np.nan. Save as column contract_type.\n",
    "\n",
    "df[\"contract_type\"] = np.where(df['contract_type'].str.contains(\"Servic\"), \"Services\", \n",
    "                                 np.where(df['contract_type'].str.contains(\"Suppli\"), \"Supplies\",\n",
    "                                            np.where(df['contract_type'].str.contains(\"Works\"), \"Works\", None)))\n",
    "\n",
    "\n",
    "# Getting information on buyer.\n",
    "\n",
    "df['buyer_name'] = df['country'].str.extract(r'Official name: (.*?)<br/>', expand=False)\n",
    "df['buyer_address'] = df['country'].str.extract(r'Postal address: (.*?)<br/>', expand=False)\n",
    "df['buyer_town'] = df['country'].str.extract(r'Town: (.*?)<br/>', expand=False)\n",
    "# Country comes with two types of breaks. We need to extract the country from both types of breaks.\n",
    "df['country'] = df['country'].str.extract(r'Country: (.*?)<br/>', expand=False)\n",
    "df[\"country\"] = df[\"country\"].str.split(\"</p>\").str[0]\n",
    "\n",
    "# getting tender value in EUR.\n",
    "\n",
    "df[\"value_eur\"] = df.apply(convert_to_euro, axis=1)\n",
    "\n",
    "\n",
    "# keep only relevant columns: id, year, title, cpv, contract_type, description, country, \n",
    "# buyer_name, buyer_address, buyer_town, contracting_authority_type, contracting_authority_activity, \n",
    "# is_framework_agreement, is_dynamic, is_open, value_eur\n",
    "\n",
    "df = df[[\"id\", \"year\", \"title\", \"cpv\", \"contract_type\", \"description\", \"country\", \"buyer_name\", \"buyer_address\", \"buyer_town\",\n",
    "            \"contracting_authority_type\", \"contracting_authority_activity\", \"government_procurement_agreement\", \"is_framework_agreement\", \"is_dynamic\", \"is_open\", \"value_eur\"]]"
   ]
  },
  {
   "cell_type": "code",
   "execution_count": 4,
   "metadata": {},
   "outputs": [
    {
     "data": {
      "text/html": [
       "<div>\n",
       "<style scoped>\n",
       "    .dataframe tbody tr th:only-of-type {\n",
       "        vertical-align: middle;\n",
       "    }\n",
       "\n",
       "    .dataframe tbody tr th {\n",
       "        vertical-align: top;\n",
       "    }\n",
       "\n",
       "    .dataframe thead th {\n",
       "        text-align: right;\n",
       "    }\n",
       "</style>\n",
       "<table border=\"1\" class=\"dataframe\">\n",
       "  <thead>\n",
       "    <tr style=\"text-align: right;\">\n",
       "      <th></th>\n",
       "      <th>id</th>\n",
       "      <th>year</th>\n",
       "      <th>title</th>\n",
       "      <th>cpv</th>\n",
       "      <th>contract_type</th>\n",
       "      <th>description</th>\n",
       "      <th>country</th>\n",
       "      <th>buyer_name</th>\n",
       "      <th>buyer_address</th>\n",
       "      <th>buyer_town</th>\n",
       "      <th>contracting_authority_type</th>\n",
       "      <th>contracting_authority_activity</th>\n",
       "      <th>government_procurement_agreement</th>\n",
       "      <th>is_framework_agreement</th>\n",
       "      <th>is_dynamic</th>\n",
       "      <th>is_open</th>\n",
       "      <th>value_eur</th>\n",
       "    </tr>\n",
       "  </thead>\n",
       "  <tbody>\n",
       "    <tr>\n",
       "      <th>0</th>\n",
       "      <td>1-2021</td>\n",
       "      <td>2020</td>\n",
       "      <td>Cyber Threat Intelligence Infrastructure – Des...</td>\n",
       "      <td>[72000000]</td>\n",
       "      <td>Services</td>\n",
       "      <td>ENISA seeks to contract service providers for ...</td>\n",
       "      <td>Greece</td>\n",
       "      <td>European Union Agency for Cybersecurity</td>\n",
       "      <td>1 Vasilissis Sofias Street</td>\n",
       "      <td>Maroussi</td>\n",
       "      <td>European institution/agency or international o...</td>\n",
       "      <td>Other</td>\n",
       "      <td>No</td>\n",
       "      <td>Yes</td>\n",
       "      <td>No</td>\n",
       "      <td>Yes</td>\n",
       "      <td>3150000</td>\n",
       "    </tr>\n",
       "    <tr>\n",
       "      <th>1</th>\n",
       "      <td>1000-2015</td>\n",
       "      <td>2014</td>\n",
       "      <td>Ds-rempart.</td>\n",
       "      <td>[72910000]</td>\n",
       "      <td>Services</td>\n",
       "      <td>Maîtrise d'oeuvre du secours informatique de l...</td>\n",
       "      <td>France</td>\n",
       "      <td>Ministère de l'économie</td>\n",
       "      <td>Secrétariat général – SEP 1a – 18 avenue Léon ...</td>\n",
       "      <td>Paris Cedex 20</td>\n",
       "      <td>Ministry or any other national or federal auth...</td>\n",
       "      <td>General public services</td>\n",
       "      <td>Yes</td>\n",
       "      <td>No</td>\n",
       "      <td>No</td>\n",
       "      <td>Yes</td>\n",
       "      <td>2205140</td>\n",
       "    </tr>\n",
       "    <tr>\n",
       "      <th>2</th>\n",
       "      <td>100000-2015</td>\n",
       "      <td>2015</td>\n",
       "      <td>Service de téléphonie filaire, de télécommunic...</td>\n",
       "      <td>[64210000, 64212000, 64221000, 72400000]</td>\n",
       "      <td>Services</td>\n",
       "      <td>Services de téléphonie filaire, de télécommuni...</td>\n",
       "      <td>France</td>\n",
       "      <td>Communauté d'agglomération du Bassin d'Arcacho...</td>\n",
       "      <td>2 allée d'Espagne, BP 147</td>\n",
       "      <td>Arcachon Cedex</td>\n",
       "      <td>Regional or local authority</td>\n",
       "      <td>Environment</td>\n",
       "      <td>Yes</td>\n",
       "      <td>Yes</td>\n",
       "      <td>No</td>\n",
       "      <td>Yes</td>\n",
       "      <td>NaN</td>\n",
       "    </tr>\n",
       "    <tr>\n",
       "      <th>3</th>\n",
       "      <td>100001-2014</td>\n",
       "      <td>2014</td>\n",
       "      <td>NaN</td>\n",
       "      <td>NaN</td>\n",
       "      <td>Services</td>\n",
       "      <td>NaN</td>\n",
       "      <td>NaN</td>\n",
       "      <td>NaN</td>\n",
       "      <td>NaN</td>\n",
       "      <td>NaN</td>\n",
       "      <td>NaN</td>\n",
       "      <td>NaN</td>\n",
       "      <td>NaN</td>\n",
       "      <td>nan</td>\n",
       "      <td>nan</td>\n",
       "      <td>nan</td>\n",
       "      <td>NaN</td>\n",
       "    </tr>\n",
       "    <tr>\n",
       "      <th>4</th>\n",
       "      <td>100004-2015</td>\n",
       "      <td>2015</td>\n",
       "      <td>NaN</td>\n",
       "      <td>[48810000, 48000000]</td>\n",
       "      <td>Services</td>\n",
       "      <td>Les prestations objet de la consultation conce...</td>\n",
       "      <td>France</td>\n",
       "      <td>Cerema</td>\n",
       "      <td>Bât. 4 — 25 avenue François Mitterrand — CS 92...</td>\n",
       "      <td>Bron Cedex</td>\n",
       "      <td>Body governed by public law</td>\n",
       "      <td>Environment</td>\n",
       "      <td>Yes</td>\n",
       "      <td>No</td>\n",
       "      <td>No</td>\n",
       "      <td>Yes</td>\n",
       "      <td>450000</td>\n",
       "    </tr>\n",
       "  </tbody>\n",
       "</table>\n",
       "</div>"
      ],
      "text/plain": [
       "            id  year                                              title   \n",
       "0       1-2021  2020  Cyber Threat Intelligence Infrastructure – Des...  \\\n",
       "1    1000-2015  2014                                        Ds-rempart.   \n",
       "2  100000-2015  2015  Service de téléphonie filaire, de télécommunic...   \n",
       "3  100001-2014  2014                                                NaN   \n",
       "4  100004-2015  2015                                                NaN   \n",
       "\n",
       "                                        cpv contract_type   \n",
       "0                                [72000000]      Services  \\\n",
       "1                                [72910000]      Services   \n",
       "2  [64210000, 64212000, 64221000, 72400000]      Services   \n",
       "3                                       NaN      Services   \n",
       "4                      [48810000, 48000000]      Services   \n",
       "\n",
       "                                         description country   \n",
       "0  ENISA seeks to contract service providers for ...  Greece  \\\n",
       "1  Maîtrise d'oeuvre du secours informatique de l...  France   \n",
       "2  Services de téléphonie filaire, de télécommuni...  France   \n",
       "3                                                NaN     NaN   \n",
       "4  Les prestations objet de la consultation conce...  France   \n",
       "\n",
       "                                          buyer_name   \n",
       "0            European Union Agency for Cybersecurity  \\\n",
       "1                            Ministère de l'économie   \n",
       "2  Communauté d'agglomération du Bassin d'Arcacho...   \n",
       "3                                                NaN   \n",
       "4                                             Cerema   \n",
       "\n",
       "                                       buyer_address      buyer_town   \n",
       "0                         1 Vasilissis Sofias Street        Maroussi  \\\n",
       "1  Secrétariat général – SEP 1a – 18 avenue Léon ...  Paris Cedex 20   \n",
       "2                          2 allée d'Espagne, BP 147  Arcachon Cedex   \n",
       "3                                                NaN             NaN   \n",
       "4  Bât. 4 — 25 avenue François Mitterrand — CS 92...      Bron Cedex   \n",
       "\n",
       "                          contracting_authority_type   \n",
       "0  European institution/agency or international o...  \\\n",
       "1  Ministry or any other national or federal auth...   \n",
       "2                        Regional or local authority   \n",
       "3                                                NaN   \n",
       "4                        Body governed by public law   \n",
       "\n",
       "  contracting_authority_activity government_procurement_agreement   \n",
       "0                          Other                               No  \\\n",
       "1        General public services                              Yes   \n",
       "2                    Environment                              Yes   \n",
       "3                            NaN                              NaN   \n",
       "4                    Environment                              Yes   \n",
       "\n",
       "  is_framework_agreement is_dynamic is_open value_eur  \n",
       "0                    Yes         No     Yes   3150000  \n",
       "1                     No         No     Yes   2205140  \n",
       "2                    Yes         No     Yes       NaN  \n",
       "3                    nan        nan     nan       NaN  \n",
       "4                     No         No     Yes    450000  "
      ]
     },
     "execution_count": 4,
     "metadata": {},
     "output_type": "execute_result"
    }
   ],
   "source": [
    "df.head()"
   ]
  },
  {
   "attachments": {},
   "cell_type": "markdown",
   "metadata": {},
   "source": [
    "# Duplicate check\n",
    "\n",
    "Note: there will be no duplicates based on the id - these were removed already in the stage of html download.\n",
    "Based on a manual check, current duplicates in the dataset are based on either a) rows that have all or many missing data b) tenders that were published multiple times as there were no suppliers."
   ]
  },
  {
   "cell_type": "code",
   "execution_count": 4,
   "metadata": {},
   "outputs": [],
   "source": [
    "# number of rows with missing values in all of: \n",
    "# title, description, contracting_authority_type, contracting_authority_activity, government_procurement_agreement, is_framework_agreement, is_dynamic, is_open, value_eur\n",
    "\n",
    "df_missing = df[(df[\"title\"].isna()) & (df[\"description\"].isna())]"
   ]
  },
  {
   "cell_type": "code",
   "execution_count": 5,
   "metadata": {},
   "outputs": [
    {
     "data": {
      "text/plain": [
       "id                                      0\n",
       "year                                    0\n",
       "title                               21349\n",
       "cpv                                 21347\n",
       "contract_type                           2\n",
       "description                         21349\n",
       "country                             21347\n",
       "buyer_name                          21347\n",
       "buyer_address                       21347\n",
       "buyer_town                          21347\n",
       "contracting_authority_type          21347\n",
       "contracting_authority_activity      21348\n",
       "government_procurement_agreement    21348\n",
       "is_framework_agreement              21347\n",
       "is_dynamic                          21347\n",
       "is_open                             21348\n",
       "value_eur                           21343\n",
       "dtype: int64"
      ]
     },
     "execution_count": 5,
     "metadata": {},
     "output_type": "execute_result"
    }
   ],
   "source": [
    "# show na in columns of df2\n",
    "\n",
    "df_missing.isna().sum()"
   ]
  },
  {
   "cell_type": "code",
   "execution_count": 36,
   "metadata": {},
   "outputs": [
    {
     "name": "stdout",
     "output_type": "stream",
     "text": [
      "Number of rows with missing 80% of data:  21349\n"
     ]
    }
   ],
   "source": [
    "print(\"Number of rows with missing 80% of data: \", len(df[(df[\"title\"].isna()) & (df[\"description\"].isna())]))"
   ]
  },
  {
   "cell_type": "code",
   "execution_count": 39,
   "metadata": {},
   "outputs": [],
   "source": [
    "# Drop rows with missing data in both title and description.\n",
    "\n",
    "df = df.dropna(subset=[\"title\", \"description\"], how=\"all\")"
   ]
  },
  {
   "cell_type": "code",
   "execution_count": 40,
   "metadata": {},
   "outputs": [
    {
     "name": "stdout",
     "output_type": "stream",
     "text": [
      "Number of rows that are duplicates:  26337\n"
     ]
    },
    {
     "data": {
      "text/plain": [
       "title                                                                                                                                                                                                                                                                                                                         description                                                                                                                                                                                                                                                                                                                                                                                                                                                                                                                                                                                                                                                                                                                                                                                                                                                                                                                                                                                          country   buyer_name                                    buyer_address                  buyer_town  value_eur  year\n",
       "Dobava računalniške opreme                                                                                                                                                                                                                                                                                                    Predmet naročila je dobava stacionarnih in prenosnih računalnikov, monitorjev, tiskalnikov in druge računalniške uporabniške in sistemske opreme, kot je podrobneje opredeljeno v dokumentaciji.                                                                                                                                                                                                                                                                                                                                                                                                                                                                                                                                                                                                                                                                                                                                                                                                     Slovenia  Holding Slovenske elektrarne d.o.o.           Koprska ulica 92               Ljubljana   1280000    2019    8\n",
       "Nabava energijsko učinkovite računalniške opreme                                                                                                                                                                                                                                                                              Nabava energijsko učinkovite računalniške opreme.                                                                                                                                                                                                                                                                                                                                                                                                                                                                                                                                                                                                                                                                                                                                                                                                                                                                                                                                                    Slovenia  Univerzitetni klinični center Maribor         Ljubljanska ulica 5            Maribor     484547     2020    8\n",
       "IT-konsulter                                                                                                                                                                                                                                                                                                                  Inbjudan till att komma in med ansökan om att delta i Dynamiskt Inköpssystem (DIS) avseende IT-konsulter.\\nUpphandlingsföremål\\nDenna upphandling omfattar köp av konsulttjänster inom IT eller med anknytning till IT enligt beskrivning i detta dokument med bilagor.                                                                                                                                                                                                                                                                                                                                                                                                                                                                                                                                                                                                                                                                                                                              Sweden    Region Västernorrland                         Storgatan 1                    HÄRNÖSAND   214083.9   2021    8\n",
       "Methodological Support for the Performance of Literature Reviews within Evidence-based Scientific Assessments                                                                                                                                                                                                                 This call for tenders is being launched by the European Food Safety Authority and aims at providing to EFSA multiple framework contracts for the provision of scientific services of methodological support for literature reviews for evidence-based scientific assessments. Such support may be requested to perform and/or appraise full or part(s) of systematic reviews (SRs), as well as scoping and narrative literature reviews.                                                                                                                                                                                                                                                                                                                                                                                                                                                                                                                                                             Italy     European Food Safety Authority (EFSA)         Via Carlo Magno 1A             Parma       4000000    2022    6\n",
       "Achiziţia publică de servicii de introducere a sistemului de plată prin terminal electronic de acceptare a cardurilor la punctul de încasare - EFT - POS (Electronic fund transfer at Point of Sale) şi ON-LINE, pentru încasarea tarifelor percepute de ONRC prin intermediul cardurilor de debit şi a cardurilor de credit  Obiectul principal al acordului-cadru îl reprezintă prestarea de servicii și, cu titlu accesoriu,  punerea la dispoziție de pachete software și echipamente EFT- POS, fără de care prestarea serviciului nu ar fi posibilă, reprezentând elemente intrinseci, astfel încât tipul acordului-cadru este contract de achiziție publică de prestări de servicii, astfel cum acesta este definit la alin (1) lit. o) din Legea nr. 98/2016  privind achizițiile publice, cu modificările și completările ulterioare.\\nNumar zile până la care se pot solicita clarificări înainte de data limită de depunere a ofertelor: 20 ( douăzeci) zile. \\nAutoritatea contractanta va răspunde în mod clar și complet tuturor solicitărilor de clarificări în a 11-a zi înainte de data limita stabilită pentru depunerea ofertelor.                                                                                                                                                                               Romania   OFICIUL NATIONAL AL REGISTRULUI COMERTULUI    Strada: Unirii, nr. 74         Bucuresti   202180.7   2022    6\n",
       "                                                                                                                                                                                                                                                                                                                                                                                                                                                                                                                                                                                                                                                                                                                                                                                                                                                                                                                                                                                                                                                                                                                                                                                                                                                                                                                                                                                                                                                        ..\n",
       "Keskkonnaotsuste Infosüsteemi arendus ja hooldus                                                                                                                                                                                                                                                                              Keskkonnaotsuste Infosüsteemi arendus ja hooldus.                                                                                                                                                                                                                                                                                                                                                                                                                                                                                                                                                                                                                                                                                                                                                                                                                                                                                                                                                    Estonia   Keskkonnaministeeriumi Infotehnoloogiakeskus  Teaduspargi 8                  Tallinn     3000000    2018    1\n",
       "Keskkonnaotsuste Infosüsteemi arendus- ja hooldustööde teostamine                                                                                                                                                                                                                                                             Keskkonnaotsuste Infosüsteemi arendus- ja hooldustööde teostamine                                                                                                                                                                                                                                                                                                                                                                                                                                                                                                                                                                                                                                                                                                                                                                                                                                                                                                                                    Estonia   Keskkonnaministeeriumi Infotehnoloogiakeskus  Teaduspargi tn 8                Tallinn    3000000    2022    1\n",
       "Kevan uuden eläkkeiden maksatusjärjestelmän toteutuksen loppuunsaattamisessa tarvittava asiantuntijatyö                                                                                                                                                                                                                       Suorahankinnan kohteena on Kevan uuden, keskeneräisen eläkkeiden maksatusjärjestelmän toteutuksen loppuunsaattamiseen ja järjestelmän käyttöönottamiseen Tieto Finland Oy:ltä, joulukuussa 2020 keskeytyneen projektin toimittajalta, välttämättä tarvittava asiantuntijatyö.\\nUusi maksatusjärjestelmä on otettava käyttöön 1.1.2024 mennessä, jotta Keva voi varmistua sen lakisääteisten tehtävien toteuttamisesta voimassa olevan lainsäädännön mukaisesti myös 1.1.2024 eteenpäin. Suorahankinnan laajuus on rajattu vain siihen, mikä on ehdottoman välttämätöntä järjestelmän käyttöönottamiseksi edellä mainitussa aikataulussa. Muilta osin hankinta tullaan toteuttamaan Kevan omana työnä ja hyödyntäen kilpailutettuja asiantuntijoita.                                                                                                                                                                                                                                                  Finland   Keva                                          Unioninkatu 43                 Helsinki    2300000    2021    1\n",
       "Kevan uuden eläkkeiden maksatusjärjestelmän toteutushankkeen hankepäällikkö                                                                                                                                                                                                                                                   Suorahankinnan kohteena on Kevan uuden eläkkeiden maksatusjärjestelmän (Emma) toteutuksen loppuunsaattamiseen ja järjestelmän käyttöönottamiseen välttämättä tarvittavat hankepäällikköpalvelut hankkeen päättymiseen saakka.\\nKesällä 2021 läpiviedyn hankepäällikköpalveluita koskeneen kilpailutuksen voittanut Alvaco Oy on yllättäen ja hankintayksiköstä riippumattomista syistä irtisanonut hankepäällikköpalveluita koskevan sopimuksen päättymään 1.3.2022.\\nHankepäällikkö toimii hankkeessa Kevan edustajana. Hankepäällikön rooli on erittäin keskeinen näin laajassa, aikataulu- ja liiketoimintakriittisessä monitoimittajahankkeessa. Tämän vuoksi on ehdottoman välttämätöntä hankkeen suunnitelman mukaisen etenemisen ja valmistumisaikataulun turvaamiseksi, että hankkeesta 1.3.2022 irtautuvan hankepäällikön tilalle saadaan uusi hankepäällikkö ilman viivästystä ja että tällä suorahankinnalla tehdään hankepäällikköpalveluita koskeva sopimus koko loppuhankkeen ajalle.  Finland   Keva                                          Unioninkatu 43                 Helsinki    600000     2022    1\n",
       "„Услуга по пълно сервизно обслужване на копирни машини Xerox“.                                                                                                                                                                                                                                                                Предмет на настоящата обществена поръчка е следгаранционно пълно сервизно обслужване на място за срок от 1 година за 70 броя копирни машини Xerox WC 238 и 6 броя принтери Xerox phaser 7760, с включени всички разходи за нормална експлоатация и поддръжка (без доставка на телбод и хартия), в това число:\\n— консумативи;\\n— износващи се консумативни части;\\n— резервни части;\\n— труд и транспорт;\\n— профилактика, почистване и настройки.                                                                                                                                                                                                                                                                                                                                                                                                                                                                                                                                                   Bulgaria  Darzhaven fond „Zemedelie“                    bul. „Tsar Boris III“ No. 136  Sofiya      51130      2016    1\n",
       "Length: 4401, dtype: int64"
      ]
     },
     "execution_count": 40,
     "metadata": {},
     "output_type": "execute_result"
    }
   ],
   "source": [
    "duplicates = df[df.duplicated(subset=[\"title\", \"description\", \"country\", \"buyer_name\", \"buyer_address\", \"buyer_town\", \"value_eur\", \"year\"])]\n",
    "\n",
    "print(\"Number of rows that are duplicates: \", len(duplicates))\n",
    "\n",
    "duplicates_sum = duplicates.groupby([\"title\", \"description\", \"country\", \"buyer_name\", \"buyer_address\", \"buyer_town\", \"value_eur\", \"year\"]).size().sort_values(ascending=False)\n",
    "duplicates_sum"
   ]
  },
  {
   "cell_type": "code",
   "execution_count": 41,
   "metadata": {},
   "outputs": [],
   "source": [
    "# droping duplicates\n",
    "\n",
    "df = df.drop_duplicates(subset=[\"title\", \"description\", \"country\", \"buyer_name\", \"buyer_address\", \"buyer_town\", \"value_eur\", \"year\"])"
   ]
  },
  {
   "attachments": {},
   "cell_type": "markdown",
   "metadata": {},
   "source": [
    "# Saving deduplicated data"
   ]
  },
  {
   "cell_type": "code",
   "execution_count": 42,
   "metadata": {},
   "outputs": [],
   "source": [
    "# save cleaned df\n",
    "\n",
    "df.to_csv('../data/cleaned_tender_data.csv', index=False)"
   ]
  },
  {
   "attachments": {},
   "cell_type": "markdown",
   "metadata": {},
   "source": [
    "# Simple value check"
   ]
  },
  {
   "cell_type": "code",
   "execution_count": 43,
   "metadata": {},
   "outputs": [
    {
     "name": "stdout",
     "output_type": "stream",
     "text": [
      "Total number of records:  301904\n"
     ]
    }
   ],
   "source": [
    "df = pd.read_csv('../data/cleaned_tender_data.csv')\n",
    "\n",
    "print(\"Total number of records: \", len(df))"
   ]
  },
  {
   "cell_type": "code",
   "execution_count": 44,
   "metadata": {},
   "outputs": [
    {
     "data": {
      "text/plain": [
       "is_open\n",
       "Yes    182955\n",
       "No      71178\n",
       "NaN     47771\n",
       "Name: count, dtype: int64"
      ]
     },
     "execution_count": 44,
     "metadata": {},
     "output_type": "execute_result"
    }
   ],
   "source": [
    "# for values in type of procedure, print unique values with their counts, including nan\n",
    "\n",
    "df[\"is_open\"].value_counts(dropna=False)"
   ]
  },
  {
   "cell_type": "code",
   "execution_count": 33,
   "metadata": {},
   "outputs": [
    {
     "data": {
      "text/plain": [
       "Services    203879\n",
       "Supplies     94670\n",
       "Works         3250\n",
       "NaN            105\n",
       "Name: contract_type, dtype: int64"
      ]
     },
     "execution_count": 33,
     "metadata": {},
     "output_type": "execute_result"
    }
   ],
   "source": [
    "df[\"contract_type\"].value_counts(dropna=False)"
   ]
  },
  {
   "cell_type": "code",
   "execution_count": 34,
   "metadata": {},
   "outputs": [
    {
     "name": "stdout",
     "output_type": "stream",
     "text": [
      "There are only 153 records from 2013.\n"
     ]
    },
    {
     "data": {
      "text/plain": [
       "2022    49023\n",
       "2021    48680\n",
       "2020    45370\n",
       "2019    41535\n",
       "2015    27461\n",
       "2014    27286\n",
       "2016    26717\n",
       "2018    20591\n",
       "2017    15088\n",
       "2013      153\n",
       "Name: year, dtype: int64"
      ]
     },
     "execution_count": 34,
     "metadata": {},
     "output_type": "execute_result"
    }
   ],
   "source": [
    "print(f\"There are only {len(df[df['year'] == 2013])} records from 2013.\")\n",
    "\n",
    "df[\"year\"].value_counts(dropna=False)"
   ]
  },
  {
   "cell_type": "code",
   "execution_count": 35,
   "metadata": {},
   "outputs": [
    {
     "data": {
      "text/plain": [
       "Yes    162782\n",
       "No      93280\n",
       "NaN     45842\n",
       "Name: government_procurement_agreement, dtype: int64"
      ]
     },
     "execution_count": 35,
     "metadata": {},
     "output_type": "execute_result"
    }
   ],
   "source": [
    "df[\"government_procurement_agreement\"].value_counts(dropna=False)"
   ]
  },
  {
   "cell_type": "code",
   "execution_count": 36,
   "metadata": {},
   "outputs": [
    {
     "data": {
      "text/plain": [
       "Body governed by public law                                  66593\n",
       "Regional or local authority                                  61168\n",
       "NaN                                                          52971\n",
       "Other                                                        51717\n",
       "Ministry or any other national or federal authority          48325\n",
       "National or federal agency/office                            11810\n",
       "Regional or local agency/office                               6023\n",
       "European institution/agency or international organisation     3297\n",
       "Name: contracting_authority_type, dtype: int64"
      ]
     },
     "execution_count": 36,
     "metadata": {},
     "output_type": "execute_result"
    }
   ],
   "source": [
    "df[\"contracting_authority_type\"].value_counts(dropna=False)"
   ]
  },
  {
   "cell_type": "code",
   "execution_count": 37,
   "metadata": {},
   "outputs": [
    {
     "data": {
      "text/plain": [
       "General public services                                     90533\n",
       "Other                                                       59855\n",
       "NaN                                                         32689\n",
       "Health                                                      29514\n",
       "Education                                                   25041\n",
       "Economic and financial affairs                              12206\n",
       "Public order and safety                                      8498\n",
       "Electricity                                                  6244\n",
       "Environment                                                  5242\n",
       "Defence                                                      4945\n",
       "Social protection                                            4882\n",
       "Housing and community amenities                              4145\n",
       "Recreation culture and religion                              3676\n",
       "Railway services                                             3660\n",
       "Urban railway tramway trolleybus or bus services             3269\n",
       "Water                                                        1934\n",
       "Production transport and distribution of gas and heat        1901\n",
       "Airportrelated activities                                    1663\n",
       "Postal services                                              1224\n",
       "Portrelated activities                                        477\n",
       "Extraction of gas and oil                                     174\n",
       "Exploration and extraction of coal and other solid fuels       89\n",
       "Exploration and extraction of gas and oil                      43\n",
       "Name: contracting_authority_activity, dtype: int64"
      ]
     },
     "execution_count": 37,
     "metadata": {},
     "output_type": "execute_result"
    }
   ],
   "source": [
    "# save value counts as csv\n",
    "\n",
    "df[\"contracting_authority_activity\"].value_counts(dropna=False)"
   ]
  },
  {
   "cell_type": "code",
   "execution_count": 38,
   "metadata": {},
   "outputs": [
    {
     "data": {
      "text/plain": [
       "No     206701\n",
       "Yes     54628\n",
       "NaN     40575\n",
       "Name: is_framework_agreement, dtype: int64"
      ]
     },
     "execution_count": 38,
     "metadata": {},
     "output_type": "execute_result"
    }
   ],
   "source": [
    "df[\"is_framework_agreement\"].value_counts(dropna=False)"
   ]
  },
  {
   "cell_type": "code",
   "execution_count": 39,
   "metadata": {},
   "outputs": [
    {
     "data": {
      "text/plain": [
       "No     258345\n",
       "NaN     40575\n",
       "Yes      2984\n",
       "Name: is_dynamic, dtype: int64"
      ]
     },
     "execution_count": 39,
     "metadata": {},
     "output_type": "execute_result"
    }
   ],
   "source": [
    "df[\"is_dynamic\"].value_counts(dropna=False)"
   ]
  },
  {
   "cell_type": "code",
   "execution_count": 42,
   "metadata": {},
   "outputs": [
    {
     "name": "stdout",
     "output_type": "stream",
     "text": [
      "There are 56 countries with less than 500 records.\n",
      "France                              40726\n",
      "Germany                             36734\n",
      "Poland                              34028\n",
      "Spain                               28271\n",
      "Czechia                             15317\n",
      "United Kingdom                      14984\n",
      "Netherlands                         13239\n",
      "Sweden                              11744\n",
      "Norway                              10970\n",
      "Italy                                9247\n",
      "Finland                              8497\n",
      "Belgium                              7981\n",
      "Romania                              6594\n",
      "Lithuania                            6234\n",
      "Hungary                              5331\n",
      "Ireland                              5291\n",
      "Denmark                              5157\n",
      "Slovakia                             5150\n",
      "Bulgaria                             4658\n",
      "Switzerland                          4238\n",
      "Portugal                             3709\n",
      "Slovenia                             3638\n",
      "Croatia                              3450\n",
      "Austria                              3425\n",
      "Greece                               3037\n",
      "Estonia                              2839\n",
      "Latvia                               2622\n",
      "Luxembourg                           1281\n",
      "NaN                                  1022\n",
      "Cyprus                                682\n",
      "Malta                                 658\n",
      "North Macedonia                       549\n",
      "Iceland                               255\n",
      "Moldova                                82\n",
      "Liechtenstein                          53\n",
      "Serbia                                 36\n",
      "Turkey                                 23\n",
      "Bosnia and Herzegovina                 12\n",
      "Montenegro                             12\n",
      "Ukraine                                11\n",
      "Japan                                   7\n",
      "Ethiopia                                7\n",
      "Belarus                                 6\n",
      "Martinique                              5\n",
      "Réunion                                 5\n",
      "Madagascar                              5\n",
      "Sierra Leone                            4\n",
      "Mali                                    4\n",
      "Morocco                                 4\n",
      "Ghana                                   4\n",
      "Kenya                                   4\n",
      "Rwanda                                  4\n",
      "Belize                                  3\n",
      "Cameroon                                3\n",
      "Laos                                    3\n",
      "Guadeloupe                              3\n",
      "Albania                                 3\n",
      "Gibraltar                               2\n",
      "Somalia                                 2\n",
      "Uzbekistan                              2\n",
      "South Sudan                             2\n",
      "Peru                                    2\n",
      "Bolivia                                 2\n",
      "Burkina Faso                            2\n",
      "China                                   2\n",
      "Cape Verde                              2\n",
      "Russia                                  2\n",
      "Benin                                   2\n",
      "Pakistan                                2\n",
      "Tunisia                                 1\n",
      "New Caledonia                           1\n",
      "India                                   1\n",
      "Kosovo                                  1\n",
      "Nepal                                   1\n",
      "Central African Republic                1\n",
      "Burundi                                 1\n",
      "Tanzania                                1\n",
      "Democratic Republic of the Congo        1\n",
      "Uganda                                  1\n",
      "United States                           1\n",
      "Malawi                                  1\n",
      "Nigeria                                 1\n",
      "Greenland                               1\n",
      "French Guiana                           1\n",
      "Andorra                                 1\n",
      "Barbados                                1\n",
      "Saudi Arabia                            1\n",
      "Congo                                   1\n"
     ]
    }
   ],
   "source": [
    "print(f\"There are {len(df['country'].value_counts()[df['country'].value_counts() < 500])} countries with less than 500 records.\")\n",
    "\n",
    "print(df[\"country\"].value_counts(dropna=False).to_string())\n",
    "\n"
   ]
  }
 ],
 "metadata": {
  "kernelspec": {
   "display_name": "saas-in-eu-NeA8_TIc",
   "language": "python",
   "name": "python3"
  },
  "language_info": {
   "codemirror_mode": {
    "name": "ipython",
    "version": 3
   },
   "file_extension": ".py",
   "mimetype": "text/x-python",
   "name": "python",
   "nbconvert_exporter": "python",
   "pygments_lexer": "ipython3",
   "version": "3.10.5"
  },
  "orig_nbformat": 4
 },
 "nbformat": 4,
 "nbformat_minor": 2
}
